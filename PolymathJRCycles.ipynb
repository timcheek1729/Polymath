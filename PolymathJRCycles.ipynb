{
 "cells": [
  {
   "cell_type": "code",
   "execution_count": 1,
   "metadata": {
    "scrolled": true
   },
   "outputs": [
    {
     "data": {
      "text/plain": [
       "true"
      ]
     },
     "execution_count": 1,
     "metadata": {
      "text/plain": ""
     },
     "output_type": "execute_result"
    }
   ],
   "source": [
    "LoadPackage(\"grape\");"
   ]
  },
  {
   "cell_type": "code",
   "execution_count": 24,
   "metadata": {},
   "outputs": [
    {
     "data": {
      "text/plain": [
       "function( gr, n ) ... end"
      ]
     },
     "execution_count": 24,
     "metadata": {
      "text/plain": ""
     },
     "output_type": "execute_result"
    }
   ],
   "source": [
    "maxCycleLength:=function(gr,n)\n",
    "    local x, cyclenumber, edges,graph,color,par,mark,miniMaxCycle,dfs_cycle;\n",
    "    dfs_cycle:=function(u,p,color,mark,par)\n",
    "        local cur,v;\n",
    "        if color[u]=2 then\n",
    "            return cyclenumber;\n",
    "        fi;\n",
    "        if color[u]=1 then\n",
    "            cyclenumber:=cyclenumber+1;\n",
    "            cur:=p;\n",
    "            mark[cur]:=cyclenumber;\n",
    "            while cur<>u do\n",
    "                cur:=par[cur];\n",
    "                mark[cur]:=cyclenumber;\n",
    "            od;\n",
    "            return;\n",
    "        fi;\n",
    "        par[u]:=p;\n",
    "        color[u]:=1;\n",
    "        for v in graph[u] do\n",
    "            if v<>par[u] then\n",
    "                dfs_cycle(v, u, color, mark, par);\n",
    "            fi;\n",
    "        od;\n",
    "        color[u]:=2;\n",
    "    end;\n",
    "    miniMaxCycle:=function(edges,mark)\n",
    "        local maxcount,j,i,count,len;\n",
    "        len:=Length(mark);\n",
    "        maxcount:=0;\n",
    "        for i in [1..len] do\n",
    "            count:=0;\n",
    "            for j in [1..len] do\n",
    "                if ((mark[i]=mark[j]) and (mark[i]<>0)) then\n",
    "                    count:=count+1;\n",
    "                fi;\n",
    "            od;\n",
    "            if count>maxcount then\n",
    "                maxcount:=count; \n",
    "            fi;\n",
    "        od;\n",
    "        return maxcount;\n",
    "    end;\n",
    "    graph:=[];;\n",
    "    color:=[];;\n",
    "    par:=[];;\n",
    "    mark:=[];;\n",
    "    edges:=0;\n",
    "    cyclenumber:=0;\n",
    "    for x in [1..n] do\n",
    "        Add(color,0);;\n",
    "        Add(par,0);;\n",
    "        Add(mark,0);;\n",
    "        edges:=edges+1;\n",
    "    od;\n",
    "    for x in [1..n] do\n",
    "        Add(graph, Adjacency(gr,x));\n",
    "    od;\n",
    "    dfs_cycle(1,0,color,mark,par);\n",
    "    return miniMaxCycle(edges,mark);\n",
    "end;"
   ]
  },
  {
   "cell_type": "code",
   "execution_count": 17,
   "metadata": {},
   "outputs": [
    {
     "name": "stderr",
     "output_type": "stream",
     "text": [
      "Error, Variable: 'dfs_cycle' must have a value\n",
      "not in any function at stream:20\n",
      "Error, Variable: 'maxCycle' must have a value\n",
      "not in any function at stream:23\n"
     ]
    }
   ],
   "source": [
    "graph:=[];;\n",
    "cycles:=[];;\n",
    "color:=[];;\n",
    "par:=[];;\n",
    "mark:=[];;\n",
    "\n",
    "for x in [1..20] do\n",
    "    Add(graph,0);;\n",
    "    Add(cycles,0);;\n",
    "    Add(color,0);;\n",
    "    Add(par,0);;\n",
    "    Add(mark,0);;\n",
    "od;\n",
    "\n",
    "graph:=[[2],[1,3],[2,4],[3,6,7],[3,6,9],[4,5,10],[4,8],[7],[5],[6,11],[10,12,13],[11,13],[11,12]];;\n",
    "\n",
    "cyclenumber := 0;;\n",
    "edges := 13;;\n",
    "\n",
    "dfs_cycle(1, 0, color, mark, par);;\n",
    " \n",
    "\n",
    "maxCycle(edges,mark);"
   ]
  },
  {
   "cell_type": "code",
   "execution_count": 30,
   "metadata": {},
   "outputs": [
    {
     "name": "stdout",
     "output_type": "stream",
     "text": [
      "5"
     ]
    },
    {
     "data": {
      "text/plain": [
       "D(2*5)"
      ]
     },
     "execution_count": 25,
     "metadata": {
      "text/plain": ""
     },
     "output_type": "execute_result"
    },
    {
     "data": {
      "text/plain": [
       "Group([ (2,4)(3,5) ])"
      ]
     },
     "execution_count": 26,
     "metadata": {
      "text/plain": ""
     },
     "output_type": "execute_result"
    },
    {
     "data": {
      "text/plain": [
       "[ [ 1 ], [ 2, 4 ], [ 3, 5 ] ]"
      ]
     },
     "execution_count": 27,
     "metadata": {
      "text/plain": ""
     },
     "output_type": "execute_result"
    },
    {
     "data": {
      "text/plain": [
       "[ 2, 4 ]"
      ]
     },
     "execution_count": 28,
     "metadata": {
      "text/plain": ""
     },
     "output_type": "execute_result"
    }
   ],
   "source": [
    "G:=PrimitiveGroup(5,2);\n",
    "H:=Stabiliser(G,1);\n",
    "orbs:=Orbits(H,MovedPoints(G));\n",
    "good_orb:=orbs[2];\n",
    "gr := Graph(G, [1], OnPoints, function(x, y) return y in good_orb; end);;\n",
    "Print(maxCycleLength(gr,5));"
   ]
  },
  {
   "cell_type": "code",
   "execution_count": null,
   "metadata": {},
   "outputs": [],
   "source": []
  }
 ],
 "metadata": {
  "kernelspec": {
   "display_name": "GAP 4",
   "language": "gap",
   "name": "gap-4"
  },
  "language_info": {
   "codemirror_mode": "gap",
   "file_extension": ".g",
   "mimetype": "text/x-gap",
   "name": "GAP 4",
   "nbconvert_exporter": "",
   "pygments_lexer": "gap",
   "version": "4.11.1"
  }
 },
 "nbformat": 4,
 "nbformat_minor": 2
}
