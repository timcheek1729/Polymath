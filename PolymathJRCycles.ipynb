{
 "cells": [
  {
   "cell_type": "code",
   "execution_count": 1,
   "metadata": {
    "scrolled": true
   },
   "outputs": [
    {
     "data": {
      "text/plain": [
       "true"
      ]
     },
     "execution_count": 1,
     "metadata": {
      "text/plain": ""
     },
     "output_type": "execute_result"
    }
   ],
   "source": [
    "LoadPackage(\"grape\");"
   ]
  },
  {
   "cell_type": "code",
   "execution_count": 2,
   "metadata": {},
   "outputs": [
    {
     "data": {
      "text/plain": [
       "function( gr, n ) ... end"
      ]
     },
     "execution_count": 2,
     "metadata": {
      "text/plain": ""
     },
     "output_type": "execute_result"
    }
   ],
   "source": [
    "maxCycleLength:=function(gr,n)\n",
    "    local x, cyclenumber, edges,graph,color,par,mark,miniMaxCycle,dfs_cycle;\n",
    "    dfs_cycle:=function(u,p,color,mark,par)\n",
    "        local cur,v;\n",
    "        if color[u]=2 then\n",
    "            return cyclenumber;\n",
    "        fi;\n",
    "        if color[u]=1 then\n",
    "            cyclenumber:=cyclenumber+1;\n",
    "            cur:=p;\n",
    "            mark[cur]:=cyclenumber;\n",
    "            while cur<>u do\n",
    "                cur:=par[cur];\n",
    "                mark[cur]:=cyclenumber;\n",
    "            od;\n",
    "            return;\n",
    "        fi;\n",
    "        par[u]:=p;\n",
    "        color[u]:=1;\n",
    "        for v in graph[u] do\n",
    "            if v<>par[u] then\n",
    "                dfs_cycle(v, u, color, mark, par);\n",
    "            fi;\n",
    "        od;\n",
    "        color[u]:=2;\n",
    "    end;\n",
    "    miniMaxCycle:=function(edges,mark)\n",
    "        local maxcount,j,cyc,count,uni;\n",
    "        maxcount:=0;\n",
    "        uni:=Unique(mark);\n",
    "        for cyc in uni do\n",
    "            count:=0;\n",
    "            for j in [1..Length(mark)] do\n",
    "                if ((cyc<>0) and (cyc=mark[j])) then\n",
    "                    count:=count+1;\n",
    "                fi;\n",
    "            od;\n",
    "            if count>maxcount then\n",
    "                maxcount:=count; \n",
    "            fi;\n",
    "        od;\n",
    "        return maxcount;\n",
    "    end;\n",
    "    graph:=[];;\n",
    "    color:=[];;\n",
    "    par:=[];;\n",
    "    mark:=[];;\n",
    "    edges:=0;\n",
    "    cyclenumber:=0;\n",
    "    for x in [1..n] do\n",
    "        Add(color,0);;\n",
    "        Add(par,0);;\n",
    "        Add(mark,0);;\n",
    "        edges:=edges+1;\n",
    "    od;\n",
    "    for x in [1..n] do\n",
    "        Add(graph, Adjacency(gr,x));\n",
    "    od;\n",
    "    dfs_cycle(1,0,color,mark,par);\n",
    "    return miniMaxCycle(edges,mark);\n",
    "end;"
   ]
  },
  {
   "cell_type": "code",
   "execution_count": 8,
   "metadata": {},
   "outputs": [
    {
     "name": "stdout",
     "output_type": "stream",
     "text": [
      "5"
     ]
    },
    {
     "data": {
      "text/plain": [
       "D(2*5)"
      ]
     },
     "execution_count": 3,
     "metadata": {
      "text/plain": ""
     },
     "output_type": "execute_result"
    },
    {
     "data": {
      "text/plain": [
       "Group([ (2,4)(3,5) ])"
      ]
     },
     "execution_count": 4,
     "metadata": {
      "text/plain": ""
     },
     "output_type": "execute_result"
    },
    {
     "data": {
      "text/plain": [
       "[ [ 1 ], [ 2, 4 ], [ 3, 5 ] ]"
      ]
     },
     "execution_count": 5,
     "metadata": {
      "text/plain": ""
     },
     "output_type": "execute_result"
    },
    {
     "data": {
      "text/plain": [
       "[ 2, 4 ]"
      ]
     },
     "execution_count": 6,
     "metadata": {
      "text/plain": ""
     },
     "output_type": "execute_result"
    }
   ],
   "source": [
    "G:=PrimitiveGroup(5,2);\n",
    "H:=Stabiliser(G,1);\n",
    "orbs:=Orbits(H,MovedPoints(G));\n",
    "good_orb:=orbs[2];\n",
    "gr := Graph(G, [1], OnPoints, function(x, y) return y in good_orb; end);;\n",
    "Print(maxCycleLength(gr,5));"
   ]
  },
  {
   "cell_type": "code",
   "execution_count": null,
   "metadata": {},
   "outputs": [],
   "source": []
  }
 ],
 "metadata": {
  "kernelspec": {
   "display_name": "GAP 4",
   "language": "gap",
   "name": "gap-4"
  },
  "language_info": {
   "codemirror_mode": "gap",
   "file_extension": ".g",
   "mimetype": "text/x-gap",
   "name": "GAP 4",
   "nbconvert_exporter": "",
   "pygments_lexer": "gap",
   "version": "4.11.1"
  }
 },
 "nbformat": 4,
 "nbformat_minor": 2
}
