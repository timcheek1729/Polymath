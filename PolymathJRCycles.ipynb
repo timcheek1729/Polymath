{
 "cells": [
  {
   "cell_type": "code",
   "execution_count": 103,
   "metadata": {
    "scrolled": true
   },
   "outputs": [
    {
     "data": {
      "text/plain": [
       "true"
      ]
     },
     "execution_count": 103,
     "metadata": {
      "text/plain": ""
     },
     "output_type": "execute_result"
    }
   ],
   "source": [
    "LoadPackage(\"grape\");"
   ]
  },
  {
   "cell_type": "code",
   "execution_count": 104,
   "metadata": {},
   "outputs": [
    {
     "data": {
      "text/plain": [
       "function( u, p, color, mark, par ) ... end"
      ]
     },
     "execution_count": 104,
     "metadata": {
      "text/plain": ""
     },
     "output_type": "execute_result"
    }
   ],
   "source": [
    "dfs_cycle:=function(u,p,color,mark,par)\n",
    "    local cur,v;\n",
    "    if color[u]=2 then\n",
    "        return cyclenumber;\n",
    "    fi;\n",
    "    if color[u]=1 then\n",
    "        cyclenumber:=cyclenumber+1;\n",
    "        cur:=p;\n",
    "        mark[cur]:=cyclenumber;\n",
    "        while cur<>u do\n",
    "            cur:=par[cur];\n",
    "            mark[cur]:=cyclenumber;\n",
    "        od;\n",
    "        return;\n",
    "    fi;\n",
    "    par[u]:=p;\n",
    "    color[u]:=1;\n",
    "    for v in graph[u] do\n",
    "        if v<>par[u] then\n",
    "            dfs_cycle(v, u, color, mark, par);\n",
    "        fi;\n",
    "    od;\n",
    "    color[u]:=2;\n",
    "end;"
   ]
  },
  {
   "cell_type": "code",
   "execution_count": 105,
   "metadata": {},
   "outputs": [
    {
     "data": {
      "text/plain": [
       "function( edges, mark ) ... end"
      ]
     },
     "execution_count": 105,
     "metadata": {
      "text/plain": ""
     },
     "output_type": "execute_result"
    }
   ],
   "source": [
    "maxCycle:=function(edges,mark)\n",
    "    local maxcount,j,i,count,len;\n",
    "    len:=Length(mark);\n",
    "    maxcount:=0;\n",
    "    for i in [1..len] do\n",
    "        count:=0;\n",
    "        for j in [1..len] do\n",
    "            if ((mark[i]=mark[j]) and (mark[i]<>0)) then\n",
    "                count:=count+1;\n",
    "            fi;\n",
    "        od;\n",
    "        if count>maxcount then\n",
    "            maxcount:=count; \n",
    "        fi;\n",
    "    od;\n",
    "    return maxcount;\n",
    "end;"
   ]
  },
  {
   "cell_type": "code",
   "execution_count": 102,
   "metadata": {},
   "outputs": [
    {
     "data": {
      "text/plain": [
       "4"
      ]
     },
     "execution_count": 102,
     "metadata": {
      "text/plain": ""
     },
     "output_type": "execute_result"
    }
   ],
   "source": [
    "graph:=[];;\n",
    "cycles:=[];;\n",
    "color:=[];;\n",
    "par:=[];;\n",
    "mark:=[];;\n",
    "\n",
    "for x in [1..20] do\n",
    "    Add(graph,0);;\n",
    "    Add(cycles,0);;\n",
    "    Add(color,0);;\n",
    "    Add(par,0);;\n",
    "    Add(mark,0);;\n",
    "od;\n",
    "\n",
    "graph:=[[2],[1,3],[2,4],[3,6,7],[3,6,9],[4,5,10],[4,8],[7],[5],[6,11],[10,12,13],[11,13],[11,12]];;\n",
    "\n",
    "cyclenumber := 0;;\n",
    "edges := 13;;\n",
    "\n",
    "dfs_cycle(1, 0, color, mark, par);;\n",
    " \n",
    "\n",
    "maxCycle(edges,mark);"
   ]
  },
  {
   "cell_type": "code",
   "execution_count": null,
   "metadata": {},
   "outputs": [],
   "source": []
  }
 ],
 "metadata": {
  "kernelspec": {
   "display_name": "GAP 4",
   "language": "gap",
   "name": "gap-4"
  },
  "language_info": {
   "codemirror_mode": "gap",
   "file_extension": ".g",
   "mimetype": "text/x-gap",
   "name": "GAP 4",
   "nbconvert_exporter": "",
   "pygments_lexer": "gap",
   "version": "4.11.1"
  }
 },
 "nbformat": 4,
 "nbformat_minor": 2
}
