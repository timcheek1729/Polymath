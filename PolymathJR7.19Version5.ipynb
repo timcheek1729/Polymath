{
 "cells": [
  {
   "cell_type": "code",
   "execution_count": 11,
   "metadata": {
    "scrolled": true
   },
   "outputs": [
    {
     "data": {
      "text/plain": [
       "true"
      ]
     },
     "execution_count": 11,
     "metadata": {
      "text/plain": ""
     },
     "output_type": "execute_result"
    }
   ],
   "source": [
    "LoadPackage(\"grape\");"
   ]
  },
  {
   "cell_type": "code",
   "execution_count": 19,
   "metadata": {},
   "outputs": [],
   "source": [
    "allPartitions:=function(numColors,numOrbits)\n",
    "    local j, bigSet, x;\n",
    "    j:=PartitionsSet([2..numOrbits]);\n",
    "    bigSet:=[];\n",
    "    for x in j do\n",
    "        if Length(x)=numColors then\n",
    "            Add(bigSet,x);\n",
    "            #Print(Length(x),\" \",x,\"\\n\");\n",
    "        fi; \n",
    "    od;\n",
    "    return bigSet;\n",
    "end;"
   ]
  },
  {
   "cell_type": "code",
   "execution_count": null,
   "metadata": {},
   "outputs": [],
   "source": [
    "checkCycle:=function(gr,V,n)\n",
    "    local count,DFS,countCycles,ud,e,graph;\n",
    "    count:= 0;\n",
    "    DFS:=function(graph, marked, n, vert, start)\n",
    "        local i;\n",
    "        marked[vert]:=true;\n",
    "        if n=0 then\n",
    "            marked[vert]:=false;\n",
    "            if graph[vert][start]=1 then\n",
    "                count:=count+1;\n",
    "                return;\n",
    "            else\n",
    "                return;\n",
    "            fi;\n",
    "        fi;\n",
    "        for i in [1..V] do\n",
    "            if marked[i]=0 and graph[vert][i]=1 then \n",
    "                DFS(graph,marked,n-1,i,start);\n",
    "                if count<>0 then\n",
    "                    return;\n",
    "                fi;\n",
    "            fi;\n",
    "            marked[vert]:=false;\n",
    "        od;\n",
    "    end;\n",
    "    countCycles:=function(graph, n)\n",
    "        local i,marked;\n",
    "        marked:=[];\n",
    "        for i in [1..V] do\n",
    "            Add(marked,0);\n",
    "        od;\n",
    "        for i in [1..(V-(n-1)+1)] do\n",
    "            DFS(graph,marked,n-1,i,i);\n",
    "            marked[i]:=true;\n",
    "            if count<>0 then\n",
    "                return count;\n",
    "            fi;\n",
    "        od;\n",
    "        return count;\n",
    "    end;\n",
    "    graph:=NullMat(V,V);\n",
    "    ud:=UndirectedEdges(gr);\n",
    "    for e in ud do\n",
    "        graph[e[1]][e[2]]:=1;\n",
    "        graph[e[2]][e[1]]:=1;\n",
    "    od;\n",
    "    return countCycles(graph,n);    \n",
    "end;"
   ]
  },
  {
   "cell_type": "code",
   "execution_count": 20,
   "metadata": {},
   "outputs": [
    {
     "data": {
      "text/plain": [
       "function( gr, max ) ... end"
      ]
     },
     "execution_count": 20,
     "metadata": {
      "text/plain": ""
     },
     "output_type": "execute_result"
    }
   ],
   "source": [
    "KmEeSubgraphOfGivenSize := function(gr, max)\n",
    "  local tuplefinder, tuples, g;\n",
    "\n",
    "  g := AutomorphismGroup(gr);\n",
    "\n",
    "  tuples := [];\n",
    "  tuplefinder := function(g, s, max, missing)\n",
    "    local stab, sx, ssx, orb, orbs, rest, x, missing2;\n",
    "\n",
    "    if Size(tuples) > 0 then\n",
    "      return;\n",
    "    fi;\n",
    "\n",
    "    if (Length(s) = max) then\n",
    "#     Print(s,\"\\n\");\n",
    "      Add(tuples, s);\n",
    "      return;\n",
    "    fi;\n",
    "    if IsEmpty(s) then stab := g;\n",
    "    else stab := Stabilizer(g, s, OnSets);\n",
    "    fi;\n",
    "    orbs := Orbits(stab,[1..DegreeAction(g)]);\n",
    "\n",
    "    for orb in orbs do\n",
    "      x := Minimum(orb);\n",
    "      if (IsEmpty(s) or x > Maximum(s)) then\n",
    "        missing2 := Size(s) - Size(Intersection(Adjacency(gr, x), s));\n",
    "        if missing + missing2 <= 1 then\n",
    "          sx := Union(s, [ x ]);\n",
    "          ssx := SmallestImageSet(g, sx);\n",
    "          if ssx = sx then\n",
    "            tuplefinder(g, sx, max, missing+missing2);\n",
    "          fi;\n",
    "        fi;\n",
    "      fi;\n",
    "    od;\n",
    "  end;\n",
    "  tuplefinder(g,[],max,0);\n",
    "  return tuples;\n",
    "end;"
   ]
  },
  {
   "cell_type": "code",
   "execution_count": 21,
   "metadata": {},
   "outputs": [
    {
     "data": {
      "text/plain": [
       "function( G, y ) ... end"
      ]
     },
     "execution_count": 21,
     "metadata": {
      "text/plain": ""
     },
     "output_type": "execute_result"
    }
   ],
   "source": [
    "checkData:=function(G,y)\n",
    "    local H,orbs,localBigSet,theSet,maxMinSmall,minMaxSmall,min,max,m,J,J_i,o,valid,orbitUnions,good_orb,gr,everTrue,x,fails,f,failed,good,a,b;\n",
    "    H := Stabiliser(G, 1);\n",
    "    orbs := Orbits(H, MovedPoints(G));\n",
    "    if Length(orbs)>14 or Length(orbs)<6+1 then\n",
    "        Print(G,\", invalid orbit length\",\",\\n\");\n",
    "        return [];\n",
    "    fi;\n",
    "    fails:=[];\n",
    "    localBigSet:=allPartitions(6,Length(orbs));\n",
    "    theSet:=[];\n",
    "    everTrue:=false;\n",
    "    for J in localBigSet do #fixes one possible partitioning of (nontrivial) orbits\n",
    "        valid:=true;\n",
    "        orbitUnions:=[];\n",
    "        good:=[];\n",
    "        for J_i in J do #fixes specific orbits we'll look at to create graph\n",
    "            good_orb:=[];\n",
    "            if Length(J)<>1 then\n",
    "                for o in J_i do #unions the orbits that J_i requires\n",
    "                    good_orb:=Concatenation(good_orb,orbs[o]);\n",
    "                od;\n",
    "            else\n",
    "                good_orb:=J;\n",
    "            fi;\n",
    "            failed:=false;\n",
    "            for f in fails do\n",
    "                if IsSubset(f,J_i) then\n",
    "                    failed:=true;\n",
    "                    valid:=false;\n",
    "                    break;\n",
    "                fi;\n",
    "            od;\n",
    "            if failed then\n",
    "                break;\n",
    "            fi;\n",
    "            gr := Graph(G, [1], OnPoints, function(x, y) return y in good_orb; end);\n",
    "            if not(IsSimpleGraph(gr)) then\n",
    "                valid:=false;\n",
    "                Add(fails,good_orb);\n",
    "                break;\n",
    "            fi;\n",
    "            #b:=KmEeSubgraphOfGivenSize(gr,7);\n",
    "            b:=checkCycle(gr,y,3);\n",
    "            #if b<>CompleteSubgraphsOfGivenSize(gr,0)[1] then\n",
    "            if b<>0 then\n",
    "                valid:=false;\n",
    "                Add(fails,good_orb);\n",
    "                break;\n",
    "            else \n",
    "                #Print(\"Mini K_6-e\", orbitUnions, \",\\t\");\n",
    "                #Add(good,\"C_4\");\n",
    "                Add(orbitUnions,J_i);\n",
    "            fi;            \n",
    "        od;\n",
    "        if valid then\n",
    "            everTrue:=true;\n",
    "            Add(theSet,orbitUnions);\n",
    "            for x in good do\n",
    "                Print(x,\",\\t\");\n",
    "            od;\n",
    "            Print(\"//\");\n",
    "        fi;\n",
    "    od;\n",
    "    if everTrue then\n",
    "        Print(y,\",\\t\",G,\",\\t\");\n",
    "        for x in theSet do\n",
    "            Print(x,\",\\t\");\n",
    "        od;\n",
    "        Print(\"\\n\");\n",
    "    else\n",
    "        Print(G,\" failed\\n\");\n",
    "    fi;\n",
    "end;"
   ]
  },
  {
   "cell_type": "code",
   "execution_count": 79,
   "metadata": {},
   "outputs": [
    {
     "data": {
      "text/plain": [
       "[ 2, 3, 5, 7, 11, 13, 17, 19, 23, 29, 31, 37, 41, 43, 47, 53, 59, 61, 67, 71, 73, 79, 83, 89, 97, 101, 103, 107, 109, 113, 127, 131, 137, 139, 149, 151, 157, 163, 167, 173, 179, 181, 191, 193, 197, 199, 211, 223, 227, 229, 233, 239, 241, 251, 257, 263, 269, 271, 277, 281, 283, 293, 307, 311, 313, 317, 331, 337, 347, 349, 353, 359, 367, 373, 379, 383, 389, 397, 401, 409, 419, 421, 431, 433, 439, 443, 449, 457, 461, 463, 467, 479, 487, 491, 499, 503, 509, 521, 523, 541, 547, 557, 563, 569, 571, 577, 587, 593, 599, 601, 607, 613, 617, 619, 631, 641, 643, 647, 653, 659, 661, 673, 677, 683, 691, 701, 709, 719, 727, 733, 739, 743, 751, 757, 761, 769, 773, 787, 797, 809, 811, 821, 823, 827, 829, 839, 853, 857, 859, 863, 877, 881, 883, 887, 907, 911, 919, 929, 937, 941, 947, 953, 967, 971, 977, 983, 991, 997 ]"
      ]
     },
     "execution_count": 77,
     "metadata": {
      "text/plain": ""
     },
     "output_type": "execute_result"
    },
    {
     "data": {
      "text/plain": [
       "[ 479, 487, 491, 499, 503, 509, 521, 523, 541, 547, 557, 563, 569, 571, 577, 587, 593, 599, 601, 607, 613, 617, 619, 631, 641, 643, 647 ]"
      ]
     },
     "execution_count": 78,
     "metadata": {
      "text/plain": ""
     },
     "output_type": "execute_result"
    }
   ],
   "source": [
    "j:=Primes;\n",
    "betterJ:=[];\n",
    "for x in j do\n",
    "    if x>472 and x<1000 then\n",
    "        Add(betterJ,x);\n",
    "    fi;\n",
    "od;"
   ]
  },
  {
   "cell_type": "code",
   "execution_count": null,
   "metadata": {},
   "outputs": [
    {
     "name": "stdout",
     "output_type": "stream",
     "text": [
      "PSp(4, 7), invalid orbit length,\n",
      "PSp(4, 7):2, invalid orbit length,\n",
      "PSp(4, 7), invalid orbit length,\n",
      "PSp(4, 7):2, invalid orbit length,\n",
      "Alt(20) wreath Sym(2), invalid orbit length,\n",
      "Alt(20)^2.2^2, invalid orbit length,\n",
      "Alt(20)^2.4, invalid orbit length,\n",
      "Sym(20) wreath Sym(2), invalid orbit length,\n",
      "PSL(2, 19) wreath Sym(2), invalid orbit length,\n",
      "PSL(2, 19)^2.2^2, invalid orbit length,\n",
      "PSL(2, 19)^2.4, invalid orbit length,\n",
      "PGL(2, 19) wreath Sym(2), invalid orbit length,\n"
     ]
    }
   ],
   "source": [
    "betterJ:=[1102..1200];\n",
    "for y in betterJ do\n",
    "    l:=NrPrimitiveGroups(y);\n",
    "    for x in [1..l] do \n",
    "        G := PrimitiveGroup(y, x);\n",
    "        H := Stabiliser(G, 1);\n",
    "        orbs := Orbits(H, MovedPoints(G));\n",
    "        if Length(GeneratorsOfGroup(G))<> 1 then #so G is not cyclic\n",
    "            checkData(G,y);\n",
    "        fi;\n",
    "    od;\n",
    "od;"
   ]
  },
  {
   "cell_type": "code",
   "execution_count": null,
   "metadata": {},
   "outputs": [],
   "source": [
    "bigSet:=[[[1],[2,3],[4]],[[4],[1,2],[3],[]]"
   ]
  }
 ],
 "metadata": {
  "kernelspec": {
   "display_name": "GAP 4",
   "language": "gap",
   "name": "gap-4"
  },
  "language_info": {
   "codemirror_mode": "gap",
   "file_extension": ".g",
   "mimetype": "text/x-gap",
   "name": "GAP 4",
   "nbconvert_exporter": "",
   "pygments_lexer": "gap",
   "version": "4.11.1"
  }
 },
 "nbformat": 4,
 "nbformat_minor": 2
}
