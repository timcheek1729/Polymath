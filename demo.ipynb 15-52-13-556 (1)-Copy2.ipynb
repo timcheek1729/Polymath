{
 "cells": [
  {
   "cell_type": "code",
   "execution_count": 1,
   "metadata": {
    "scrolled": true
   },
   "outputs": [
    {
     "data": {
      "text/plain": [
       "true"
      ]
     },
     "execution_count": 1,
     "metadata": {
      "text/plain": ""
     },
     "output_type": "execute_result"
    }
   ],
   "source": [
    "LoadPackage(\"grape\");"
   ]
  },
  {
   "cell_type": "code",
   "execution_count": 40,
   "metadata": {},
   "outputs": [
    {
     "data": {
      "text/plain": [
       "function( numColors, numOrbits ) ... end"
      ]
     },
     "execution_count": 40,
     "metadata": {
      "text/plain": ""
     },
     "output_type": "execute_result"
    }
   ],
   "source": [
    "allPartitions:=function(numColors,numOrbits)\n",
    "    local j, bigSet, x;\n",
    "    j:=PartitionsSet([2..numOrbits]);\n",
    "    bigSet:=[];\n",
    "    for x in j do\n",
    "        if Length(x)=numColors then\n",
    "            Add(bigSet,x);\n",
    "            Print(Length(x),\" \",x,\"\\n\");\n",
    "        fi; \n",
    "    od;\n",
    "    return bigSet;\n",
    "end;"
   ]
  },
  {
   "cell_type": "code",
   "execution_count": 49,
   "metadata": {},
   "outputs": [
    {
     "data": {
      "text/plain": [
       "function( G, i, j ) ... end"
      ]
     },
     "execution_count": 49,
     "metadata": {
      "text/plain": ""
     },
     "output_type": "execute_result"
    }
   ],
   "source": [
    "#requires num (non-trivial) orbits to be known, as well as num colorings\n",
    "checkCliques:= function(G,i,j)\n",
    "    local H, orbs, good_orb,success, J,J_i,o,gr,bigSet;\n",
    "    H := Stabiliser(G, 1);\n",
    "    orbs := Orbits(H, MovedPoints(G));\n",
    "    bigSet:=allPartitions(2,Length(orbs));\n",
    "    for J in bigSet do #fixes one possible partitioning of (nontrivial) orbits\n",
    "        success:=true;\n",
    "        for J_i in J do #fixes specific orbits we'll look at to create graph\n",
    "            #Print(J_i,\"--\");\n",
    "            good_orb:=[];\n",
    "            if Length(J)<>1 then\n",
    "                for o in J_i do #unions the orbits that J_i requires\n",
    "                    good_orb:=Concatenation(good_orb,orbs[o]);\n",
    "                od;\n",
    "            else\n",
    "                good_orb:=J;\n",
    "            fi;\n",
    "            #Print(good_orb,\";;\");\n",
    "            gr := Graph(G, [1], OnPoints, function(x, y) return y in good_orb; end);\n",
    "            #Print(CliqueNumber(gr),\",,\");\n",
    "            #Print(CliqueNumber(gr)>=i,\"**\",CliqueNumber(gr),\"**\",i );\n",
    "            #Print(CliqueNumber( gr )>=j);\n",
    "            if not(IsSimpleGraph(gr)) or CliqueNumber(gr)>=i or CliqueNumber( gr )>=j then\n",
    "                success:=false;\n",
    "                break; #so graph is bad, contains a K_i or K_j\n",
    "            fi;\n",
    "        od;\n",
    "        if success then\n",
    "            #Print(CliqueNumber(gr));\n",
    "            return true;\n",
    "        fi;\n",
    "        #Print(\".\");\n",
    "    od;\n",
    "    return false;\n",
    "end;"
   ]
  },
  {
   "cell_type": "code",
   "execution_count": 50,
   "metadata": {},
   "outputs": [
    {
     "name": "stdout",
     "output_type": "stream",
     "text": [
      "2 [ [ 2 ], [ 3 ] ]\n"
     ]
    },
    {
     "data": {
      "text/plain": [
       "true"
      ]
     },
     "execution_count": 50,
     "metadata": {
      "text/plain": ""
     },
     "output_type": "execute_result"
    }
   ],
   "source": [
    "checkCliques(PrimitiveGroup(5,2),3,3);"
   ]
  },
  {
   "cell_type": "code",
   "execution_count": 6,
   "metadata": {},
   "outputs": [
    {
     "name": "stdout",
     "output_type": "stream",
     "text": [
      "3 [ [ 2 ], [ 3 ], [ 4, 5, 6 ] ]\n",
      "3 [ [ 2 ], [ 3, 4 ], [ 5, 6 ] ]\n",
      "3 [ [ 2 ], [ 3, 4, 5 ], [ 6 ] ]\n",
      "3 [ [ 2 ], [ 3, 4, 6 ], [ 5 ] ]\n",
      "3 [ [ 2 ], [ 3, 5 ], [ 4, 6 ] ]\n",
      "3 [ [ 2 ], [ 3, 5, 6 ], [ 4 ] ]\n",
      "3 [ [ 2 ], [ 3, 6 ], [ 4, 5 ] ]\n",
      "3 [ [ 2, 3 ], [ 4 ], [ 5, 6 ] ]\n",
      "3 [ [ 2, 3 ], [ 4, 5 ], [ 6 ] ]\n",
      "3 [ [ 2, 3 ], [ 4, 6 ], [ 5 ] ]\n",
      "3 [ [ 2, 3, 4 ], [ 5 ], [ 6 ] ]\n",
      "3 [ [ 2, 3, 5 ], [ 4 ], [ 6 ] ]\n",
      "3 [ [ 2, 3, 6 ], [ 4 ], [ 5 ] ]\n",
      "3 [ [ 2, 4 ], [ 3 ], [ 5, 6 ] ]\n",
      "3 [ [ 2, 4 ], [ 3, 5 ], [ 6 ] ]\n",
      "3 [ [ 2, 4 ], [ 3, 6 ], [ 5 ] ]\n",
      "3 [ [ 2, 4, 5 ], [ 3 ], [ 6 ] ]\n",
      "3 [ [ 2, 4, 6 ], [ 3 ], [ 5 ] ]\n",
      "3 [ [ 2, 5 ], [ 3 ], [ 4, 6 ] ]\n",
      "3 [ [ 2, 5 ], [ 3, 4 ], [ 6 ] ]\n",
      "3 [ [ 2, 5 ], [ 3, 6 ], [ 4 ] ]\n",
      "3 [ [ 2, 5, 6 ], [ 3 ], [ 4 ] ]\n",
      "3 [ [ 2, 6 ], [ 3 ], [ 4, 5 ] ]\n",
      "3 [ [ 2, 6 ], [ 3, 4 ], [ 5 ] ]\n",
      "3 [ [ 2, 6 ], [ 3, 5 ], [ 4 ] ]\n"
     ]
    },
    {
     "name": "stderr",
     "output_type": "stream",
     "text": [
      "Error, List Element: <list>[4] must have an assigned value in\n",
      "  good_orb := Concatenation( good_orb, orbs[o] ); at stream:16 called from \n",
      "checkCliques( G, i, j ) at stream:12 called from\n",
      "<function \"unknown\">( <arguments> )\n",
      " called from read-eval loop at stream:20\n"
     ]
    },
    {
     "data": {
      "text/plain": [
       "[ [ [ 2 ], [ 3 ] ] ]"
      ]
     },
     "execution_count": 6,
     "metadata": {
      "text/plain": ""
     },
     "output_type": "execute_result"
    }
   ],
   "source": [
    "BigSet:=[[[2], [3]]];\n",
    "for z in [4..5] do\n",
    "    l:=NrPrimitiveGroups(z);\n",
    "    for x in [1..l] do \n",
    "        G := PrimitiveGroup(z, x);\n",
    "        H := Stabiliser(G, 1);\n",
    "        orbs := Orbits(H, MovedPoints(G));\n",
    "        if (Length(orbs))=3 and Length(GeneratorsOfGroup(G))<> 1 then #so G is not cyclic\n",
    "            for i in [3..z] do\n",
    "                for j in [3..z] do\n",
    "                    #Print(i,\" \",j,\"; \");\n",
    "                    if(checkCliques(G, i,j)) then \n",
    "                        Print(\"(hurrah!: G=\",G,\" K_i=\",i,\" K_j=\",j,\")\\n\");\n",
    "                    fi;\n",
    "                od;\n",
    "            od;\n",
    "            Print(G,\",\");\n",
    "        fi;\n",
    "    od;\n",
    "od;"
   ]
  },
  {
   "cell_type": "code",
   "execution_count": 1,
   "metadata": {},
   "outputs": [
    {
     "name": "stdout",
     "output_type": "stream",
     "text": [
      "Num degree 5 D(2*5) 2\n",
      "Num degree 7 D(2*7) 3\n",
      "Num degree 7 7:3 2\n",
      "Num degree 9 3^2:4 2\n",
      "Num degree 9 3^2:D(2*4) 2\n",
      "Num degree 10 A(5) 2\n",
      "Num degree 10 S(5) 2\n",
      "Num degree 11 D(2*11) 5\n",
      "Num degree 11 11:5 2\n"
     ]
    }
   ],
   "source": [
    "for y in [2..12] do\n",
    "    l:=NrPrimitiveGroups(y);\n",
    "    for x in [1..l] do \n",
    "        G := PrimitiveGroup(y, x);\n",
    "        H := Stabiliser(G, 1);\n",
    "        orbs := Orbits(H, MovedPoints(G));\n",
    "        if (Length(orbs)-1)<>1 and Length(GeneratorsOfGroup(G))<> 1 then #so G is not cyclic\n",
    "            Print(\"Num degree \",y,\" \",G,\" \",Length(orbs)-1,\"\\n\");\n",
    "        fi;\n",
    "    od;\n",
    "od;"
   ]
  },
  {
   "cell_type": "code",
   "execution_count": 39,
   "metadata": {},
   "outputs": [
    {
     "name": "stdout",
     "output_type": "stream",
     "text": [
      "2"
     ]
    },
    {
     "data": {
      "text/plain": [
       "6"
      ]
     },
     "execution_count": 36,
     "metadata": {
      "text/plain": ""
     },
     "output_type": "execute_result"
    },
    {
     "data": {
      "text/plain": [
       "[ 1 ]"
      ]
     },
     "execution_count": 37,
     "metadata": {
      "text/plain": ""
     },
     "output_type": "execute_result"
    }
   ],
   "source": [
    "min:=6;\n",
    "good_orb;\n",
    "for x in [1..5] do\n",
    "    #local G, H, orbs, good_orb, gr,z;\n",
    "    G := PrimitiveGroup(5, x);\n",
    "    H := Stabiliser(G, 1);\n",
    "    orbs := Orbits(H, MovedPoints(G));\n",
    "    #Print(Length(orbs),\"\\n\");\n",
    "    for p in [1..(Length(orbs)-1)] do\n",
    "        good_orb := orbs[p];\n",
    "        gr := Graph(G, [1], OnPoints, function(x, y) return y in good_orb; end);\n",
    "        if IsSimpleGraph(gr) then\n",
    "            z:=CliqueNumber( gr );\n",
    "            if z<min and z<>1 then\n",
    "                min:=z;\n",
    "            fi;\n",
    "        fi;\n",
    "    od;\n",
    "od;\n",
    "Print(min);"
   ]
  },
  {
   "cell_type": "code",
   "execution_count": 2,
   "metadata": {},
   "outputs": [
    {
     "data": {
      "text/plain": [
       "D(2*5)"
      ]
     },
     "execution_count": 2,
     "metadata": {
      "text/plain": ""
     },
     "output_type": "execute_result"
    }
   ],
   "source": [
    "G := PrimitiveGroup(5, 2);"
   ]
  },
  {
   "cell_type": "code",
   "execution_count": 6,
   "metadata": {},
   "outputs": [
    {
     "data": {
      "text/plain": [
       "2"
      ]
     },
     "execution_count": 6,
     "metadata": {
      "text/plain": ""
     },
     "output_type": "execute_result"
    }
   ],
   "source": [
    "Length(GeneratorsOfGroup(G));"
   ]
  },
  {
   "cell_type": "code",
   "execution_count": 7,
   "metadata": {},
   "outputs": [
    {
     "data": {
      "text/plain": [
       "[ (2,4)(3,5), (1,2,3,5,4) ]"
      ]
     },
     "execution_count": 7,
     "metadata": {
      "text/plain": ""
     },
     "output_type": "execute_result"
    }
   ],
   "source": [
    "GeneratorsOfGroup(G);"
   ]
  },
  {
   "cell_type": "code",
   "execution_count": 8,
   "metadata": {},
   "outputs": [
    {
     "data": {
      "text/plain": [
       "Group([ (2,4)(3,5) ])"
      ]
     },
     "execution_count": 8,
     "metadata": {
      "text/plain": ""
     },
     "output_type": "execute_result"
    }
   ],
   "source": [
    "H := Stabiliser(G, 1);"
   ]
  },
  {
   "cell_type": "code",
   "execution_count": 9,
   "metadata": {},
   "outputs": [
    {
     "data": {
      "text/plain": [
       "[ [ 1 ], [ 2, 4 ], [ 3, 5 ] ]"
      ]
     },
     "execution_count": 9,
     "metadata": {
      "text/plain": ""
     },
     "output_type": "execute_result"
    }
   ],
   "source": [
    "orbs := Orbits(H, MovedPoints(G));"
   ]
  },
  {
   "cell_type": "code",
   "execution_count": 10,
   "metadata": {},
   "outputs": [
    {
     "data": {
      "text/plain": [
       "3"
      ]
     },
     "execution_count": 10,
     "metadata": {
      "text/plain": ""
     },
     "output_type": "execute_result"
    }
   ],
   "source": [
    "Length(orbs);"
   ]
  },
  {
   "cell_type": "code",
   "execution_count": 17,
   "metadata": {},
   "outputs": [
    {
     "data": {
      "text/plain": [
       "[ 3, 5 ]"
      ]
     },
     "execution_count": 17,
     "metadata": {
      "text/plain": ""
     },
     "output_type": "execute_result"
    }
   ],
   "source": [
    "good_orb := orbs[3];"
   ]
  },
  {
   "cell_type": "code",
   "execution_count": 18,
   "metadata": {},
   "outputs": [
    {
     "data": {
      "text/plain": [
       "rec( adjacencies := [ [ 4, 5 ] ], group := Group( [ (1,2,4,5,3), (2,3)(4,5) ] ), isGraph := true, names := [ 1, 2, 4, 3, 5 ], order := 5, representatives := [ 1 ], schreierVector := [ -1, 1, 2, 1, 1 ] )"
      ]
     },
     "execution_count": 18,
     "metadata": {},
     "output_type": "execute_result"
    }
   ],
   "source": [
    "gr := Graph(G, [1], OnPoints, function(x, y) return y in good_orb; end);"
   ]
  },
  {
   "cell_type": "code",
   "execution_count": 19,
   "metadata": {},
   "outputs": [
    {
     "data": {
      "text/plain": [
       "true"
      ]
     },
     "execution_count": 19,
     "metadata": {
      "text/plain": ""
     },
     "output_type": "execute_result"
    }
   ],
   "source": [
    "IsSimpleGraph(gr);"
   ]
  },
  {
   "cell_type": "code",
   "execution_count": 20,
   "metadata": {},
   "outputs": [
    {
     "data": {
      "text/plain": [
       "2"
      ]
     },
     "execution_count": 20,
     "metadata": {
      "text/plain": ""
     },
     "output_type": "execute_result"
    }
   ],
   "source": [
    "CliqueNumber( gr );"
   ]
  },
  {
   "cell_type": "code",
   "execution_count": 16,
   "metadata": {},
   "outputs": [
    {
     "data": {
      "text/plain": [
       "[ [ 1, 2 ], [ 1, 3 ], [ 2, 4 ], [ 3, 5 ], [ 4, 5 ] ]"
      ]
     },
     "execution_count": 16,
     "metadata": {
      "text/plain": ""
     },
     "output_type": "execute_result"
    }
   ],
   "source": [
    "UndirectedEdges(gr);"
   ]
  },
  {
   "cell_type": "code",
   "execution_count": 17,
   "metadata": {},
   "outputs": [
    {
     "name": "stdout",
     "output_type": "stream",
     "text": [
      "[ 1 ] [ 2 ] [ 3 ] [ 4 ] [ 5 ] "
     ]
    }
   ],
   "source": [
    "for x in [1,2,3,4,5] do\n",
    "    Print(Adjacency(gr,x),\" \");\n",
    "od;"
   ]
  },
  {
   "cell_type": "code",
   "execution_count": 8,
   "metadata": {},
   "outputs": [
    {
     "data": {
      "text/plain": [
       "function( g, s, max, property ) ... end"
      ]
     },
     "execution_count": 8,
     "metadata": {
      "text/plain": ""
     },
     "output_type": "execute_result"
    }
   ],
   "source": [
    "OrbitRepsOnPutativeTuples := function(g,s,max,property)\n",
    "    local tuplefinder, tuples;\n",
    "    tuples:=[];\n",
    "    tuplefinder:=function(g,s,max)\n",
    "        local stab,sx,ssx,orb,orbs,rest,x;\n",
    "        if(Length(s)=max) then\n",
    "            Print(s,\"\\n\");\n",
    "            Add(tuples,s);\n",
    "            return;\n",
    "        fi;\n",
    "        if IsEmpty(s) then stab:=g;\n",
    "        else stab:= Stabilizer(g,s,OnSets);\n",
    "        fi;\n",
    "        orbs:=Orbits(stab,[1..DegreeAction(g)]);\n",
    "        for orb in orbs do\n",
    "            x:=Minimum(orb);\n",
    "            Print(Concatenation(s,[x]),\"---\");\n",
    "            #if (IsEmpty(s) or x>Maximum(s)) and property(Concatenation(s,[x])) then\n",
    "            if (IsEmpty(s) or x>Maximum(s)) then\n",
    "                sx :=Union(s,[x]);\n",
    "                ssx :=SmallestImageSet(g,sx);\n",
    "                if ssx=sx then\n",
    "                    tuplefinder(g,sx,max);\n",
    "                fi;\n",
    "            fi;\n",
    "        od;\n",
    "    end;\n",
    "    tuplefinder(g,s,max);\n",
    "    return tuples;\n",
    "end;"
   ]
  },
  {
   "cell_type": "code",
   "execution_count": 9,
   "metadata": {},
   "outputs": [
    {
     "data": {
      "text/plain": [
       "5"
      ]
     },
     "execution_count": 9,
     "metadata": {
      "text/plain": ""
     },
     "output_type": "execute_result"
    }
   ],
   "source": [
    "NrPrimitiveGroups(5);"
   ]
  },
  {
   "cell_type": "code",
   "execution_count": 10,
   "metadata": {},
   "outputs": [
    {
     "name": "stdout",
     "output_type": "stream",
     "text": [
      "C(5) D(2*5) AGL(1, 5) A(5) S(5) "
     ]
    }
   ],
   "source": [
    "for x in [1,2,3,4,5] do\n",
    "    Print(PrimitiveGroup(5,x),\" \");\n",
    "od;"
   ]
  },
  {
   "cell_type": "code",
   "execution_count": 11,
   "metadata": {},
   "outputs": [
    {
     "name": "stdout",
     "output_type": "stream",
     "text": [
      "[ 1 ]---[ 1, 1 ]---[ 1, 2 ]---[ 1 .. 2 ]\n",
      "[ 1, 3 ]---[ 1, 3 .. 3 ]\n"
     ]
    },
    {
     "data": {
      "text/plain": [
       "[ [ 1, 2 ], [ 1, 3 ] ]"
      ]
     },
     "execution_count": 11,
     "metadata": {
      "text/plain": ""
     },
     "output_type": "execute_result"
    }
   ],
   "source": [
    "OrbitRepsOnPutativeTuples(G,[],2,IsCompleteGraph);"
   ]
  },
  {
   "cell_type": "code",
   "execution_count": null,
   "metadata": {},
   "outputs": [],
   "source": []
  }
 ],
 "metadata": {
  "kernelspec": {
   "display_name": "GAP 4",
   "language": "gap",
   "name": "gap-4"
  },
  "language_info": {
   "codemirror_mode": "gap",
   "file_extension": ".g",
   "mimetype": "text/x-gap",
   "name": "GAP 4",
   "nbconvert_exporter": "",
   "pygments_lexer": "gap",
   "version": "4.11.1"
  }
 },
 "nbformat": 4,
 "nbformat_minor": 2
}
