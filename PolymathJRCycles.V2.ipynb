{
 "cells": [
  {
   "cell_type": "code",
   "execution_count": 1,
   "metadata": {
    "scrolled": true
   },
   "outputs": [
    {
     "data": {
      "text/plain": [
       "true"
      ]
     },
     "execution_count": 1,
     "metadata": {
      "text/plain": ""
     },
     "output_type": "execute_result"
    }
   ],
   "source": [
    "LoadPackage(\"grape\");\n",
    "#https://www.geeksforgeeks.org/cycles-of-length-n-in-an-undirected-and-connected-graph/"
   ]
  },
  {
   "cell_type": "code",
   "execution_count": 125,
   "metadata": {},
   "outputs": [
    {
     "data": {
      "text/plain": [
       "function( gr, V, n ) ... end"
      ]
     },
     "execution_count": 125,
     "metadata": {
      "text/plain": ""
     },
     "output_type": "execute_result"
    }
   ],
   "source": [
    "checkCycle:=function(gr,V,n)\n",
    "    local count,DFS,countCycles,ud,e,graph;\n",
    "    count:= 0;\n",
    "    DFS:=function(graph, marked, n, vert, start)\n",
    "        local i;\n",
    "        marked[vert]:=true;\n",
    "        if n=0 then\n",
    "            marked[vert]:=false;\n",
    "            if graph[vert][start]=1 then\n",
    "                count:=count+1;\n",
    "                return;\n",
    "            else\n",
    "                return;\n",
    "            fi;\n",
    "        fi;\n",
    "        for i in [1..V] do\n",
    "            if marked[i]=0 and graph[vert][i]=1 then \n",
    "                DFS(graph,marked,n-1,i,start);\n",
    "            fi;\n",
    "            marked[vert]:=false;\n",
    "        od;\n",
    "    end;\n",
    "    countCycles:=function(graph, n)\n",
    "        local i,marked;\n",
    "        marked:=[];\n",
    "        for i in [1..V] do\n",
    "            Add(marked,0);\n",
    "        od;\n",
    "        for i in [1..(V-(n-1)+1)] do\n",
    "            DFS(graph,marked,n-1,i,i);\n",
    "            marked[i]:=true;\n",
    "        od;\n",
    "        return count;\n",
    "    end;\n",
    "    graph:=NullMat(V,V);\n",
    "    ud:=UndirectedEdges(gr);\n",
    "    for e in ud do\n",
    "        graph[e[1]][e[2]]:=1;\n",
    "        graph[e[2]][e[1]]:=1;\n",
    "    od;\n",
    "    return countCycles(graph,n);    \n",
    "end;"
   ]
  },
  {
   "cell_type": "code",
   "execution_count": 151,
   "metadata": {},
   "outputs": [
    {
     "name": "stdout",
     "output_type": "stream",
     "text": [
      "9"
     ]
    },
    {
     "data": {
      "text/plain": [
       "PGL(2, 13)"
      ]
     },
     "execution_count": 146,
     "metadata": {
      "text/plain": ""
     },
     "output_type": "execute_result"
    },
    {
     "data": {
      "text/plain": [
       "<permutation group of size 24 with 2 generators>"
      ]
     },
     "execution_count": 147,
     "metadata": {
      "text/plain": ""
     },
     "output_type": "execute_result"
    },
    {
     "data": {
      "text/plain": [
       "[ [ 1 ], [ 2, 72, 68, 76, 32, 56, 40, 89, 90, 75, 77, 65 ], [ 3, 83, 88, 28, 62, 11, 50, 73, 34, 59, 53, 37, 13, 80, 4, 81, 6, 29, 39, 7, 61, 82, 52, 8 ], [ 5, 19, 35, 74, 55, 45, 24, 86 ], [ 9, 22, 25, 47, 66, 63, 21, 42, 15, 23, 44, 41, 48, 78, 26, 27, 85, 67, 10, 79, 12, 60, 49, 38 ], [ 14, 20, 84, 87, 54, 64, 43, 18, 51, 58, 46, 16 ], [ 17, 70, 69, 71, 33, 57 ], [ 30, 31, 36, 91 ] ]"
      ]
     },
     "execution_count": 148,
     "metadata": {
      "text/plain": ""
     },
     "output_type": "execute_result"
    },
    {
     "data": {
      "text/plain": [
       "[ 2, 72, 68, 76, 32, 56, 40, 89, 90, 75, 77, 65 ]"
      ]
     },
     "execution_count": 149,
     "metadata": {
      "text/plain": ""
     },
     "output_type": "execute_result"
    }
   ],
   "source": [
    "G:=PrimitiveGroup(91,4);\n",
    "H:=Stabiliser(G,1);\n",
    "orbs:=Orbits(H,MovedPoints(G));\n",
    "good_orb:=orbs[2];\n",
    "gr := Graph(G, [1], OnPoints, function(x, y) return y in good_orb; end);;\n",
    "Print(checkCycle(gr,91,7));"
   ]
  },
  {
   "cell_type": "code",
   "execution_count": 153,
   "metadata": {},
   "outputs": [
    {
     "data": {
      "text/plain": [
       "true"
      ]
     },
     "execution_count": 152,
     "metadata": {
      "text/plain": ""
     },
     "output_type": "execute_result"
    },
    {
     "data": {
      "application/javascript": [
       "( function ( element ) {\n",
       "if(!window.hasOwnProperty(\"runGAP\")){window.runGAP=function(code,callback){if(!Jupyter||!Jupyter.notebook||!Jupyter.notebook.kernel)return callback(null,\"JavaScript-based output must be re-evaluated when the notebook\"+\" is reloaded.  (Re-run the cell to clear this problem.)\");var errorMessages=[];var timeout=null;Jupyter.notebook.kernel.execute(code,{iopub:{output:function(message){if(\"data\"in message.content)return callback(message.content.data,null);if(!(\"text\"in message.content))return callback(null,message.content);errorMessages.push(message.content.text);if(timeout!==null)clearTimeout(timeout);timeout=setTimeout(function(){callback(null,errorMessages.join(\"\\n\"))},200)},clear_output:function(message){}},shell:{reply:function(message){}},input:function(message){}},{})}}if(!window.hasOwnProperty(\"librariesLoadedFromGAP\")){window.librariesLoadedFromGAP={}}function myCallback(){if(!window.hasOwnProperty(\"librariesLoadedFromGAP\")){window.librariesLoadedFromGAP={}}function myCallback(){window.createVisualization(element,{\"data\" : {\"elements\" : [{\"data\" : {\"id\" : \"1\"}},{\"data\" : {\"id\" : \"22\"}},{\"data\" : {\"id\" : \"23\"}},{\"data\" : {\"id\" : \"30\"}},{\"data\" : {\"id\" : \"37\"}},{\"data\" : {\"id\" : \"47\"}},{\"data\" : {\"id\" : \"48\"}},{\"data\" : {\"id\" : \"50\"}},{\"data\" : {\"id\" : \"55\"}},{\"data\" : {\"id\" : \"70\"}},{\"data\" : {\"id\" : \"73\"}},{\"data\" : {\"id\" : \"78\"}},{\"data\" : {\"id\" : \"89\"}},{\"data\" : {\"id\" : \"2\"}},{\"data\" : {\"id\" : \"15\"}},{\"data\" : {\"id\" : \"24\"}},{\"data\" : {\"id\" : \"31\"}},{\"data\" : {\"id\" : \"36\"}},{\"data\" : {\"id\" : \"41\"}},{\"data\" : {\"id\" : \"49\"}},{\"data\" : {\"id\" : \"51\"}},{\"data\" : {\"id\" : \"64\"}},{\"data\" : {\"id\" : \"68\"}},{\"data\" : {\"id\" : \"79\"}},{\"data\" : {\"id\" : \"80\"}},{\"data\" : {\"id\" : \"85\"}},{\"data\" : {\"id\" : \"3\"}},{\"data\" : {\"id\" : \"32\"}},{\"data\" : {\"id\" : \"33\"}},{\"data\" : {\"id\" : \"42\"}},{\"data\" : {\"id\" : \"56\"}},{\"data\" : {\"id\" : \"62\"}},{\"data\" : {\"id\" : \"83\"}},{\"data\" : {\"id\" : \"86\"}},{\"data\" : {\"id\" : \"90\"}},{\"data\" : {\"id\" : \"4\"}},{\"data\" : {\"id\" : \"34\"}},{\"data\" : {\"id\" : \"43\"}},{\"data\" : {\"id\" : \"63\"}},{\"data\" : {\"id\" : \"65\"}},{\"data\" : {\"id\" : \"66\"}},{\"data\" : {\"id\" : \"75\"}},{\"data\" : {\"id\" : \"87\"}},{\"data\" : {\"id\" : \"5\"}},{\"data\" : {\"id\" : \"26\"}},{\"data\" : {\"id\" : \"38\"}},{\"data\" : {\"id\" : \"40\"}},{\"data\" : {\"id\" : \"44\"}},{\"data\" : {\"id\" : \"57\"}},{\"data\" : {\"id\" : \"81\"}},{\"data\" : {\"id\" : \"6\"}},{\"data\" : {\"id\" : \"45\"}},{\"data\" : {\"id\" : \"53\"}},{\"data\" : {\"id\" : \"58\"}},{\"data\" : {\"id\" : \"59\"}},{\"data\" : {\"id\" : \"72\"}},{\"data\" : {\"id\" : \"91\"}},{\"data\" : {\"id\" : \"7\"}},{\"data\" : {\"id\" : \"46\"}},{\"data\" : {\"id\" : \"74\"}},{\"data\" : {\"id\" : \"76\"}},{\"data\" : {\"id\" : \"77\"}},{\"data\" : {\"id\" : \"8\"}},{\"data\" : {\"id\" : \"17\"}},{\"data\" : {\"id\" : \"27\"}},{\"data\" : {\"id\" : \"29\"}},{\"data\" : {\"id\" : \"60\"}},{\"data\" : {\"id\" : \"69\"}},{\"data\" : {\"id\" : \"71\"}},{\"data\" : {\"id\" : \"9\"}},{\"data\" : {\"id\" : \"21\"}},{\"data\" : {\"id\" : \"52\"}},{\"data\" : {\"id\" : \"54\"}},{\"data\" : {\"id\" : \"10\"}},{\"data\" : {\"id\" : \"16\"}},{\"data\" : {\"id\" : \"19\"}},{\"data\" : {\"id\" : \"61\"}},{\"data\" : {\"id\" : \"84\"}},{\"data\" : {\"id\" : \"11\"}},{\"data\" : {\"id\" : \"67\"}},{\"data\" : {\"id\" : \"82\"}},{\"data\" : {\"id\" : \"12\"}},{\"data\" : {\"id\" : \"28\"}},{\"data\" : {\"id\" : \"13\"}},{\"data\" : {\"id\" : \"14\"}},{\"data\" : {\"id\" : \"35\"}},{\"data\" : {\"id\" : \"39\"}},{\"data\" : {\"id\" : \"25\"}},{\"data\" : {\"id\" : \"88\"}},{\"data\" : {\"id\" : \"18\"}},{\"data\" : {\"id\" : \"20\"}},{\"data\" : {\"source\" : \"1\",\"target\" : \"22\"}},{\"data\" : {\"source\" : \"1\",\"target\" : \"23\"}},{\"data\" : {\"source\" : \"1\",\"target\" : \"30\"}},{\"data\" : {\"source\" : \"1\",\"target\" : \"37\"}},{\"data\" : {\"source\" : \"1\",\"target\" : \"47\"}},{\"data\" : {\"source\" : \"1\",\"target\" : \"48\"}},{\"data\" : {\"source\" : \"1\",\"target\" : \"50\"}},{\"data\" : {\"source\" : \"1\",\"target\" : \"55\"}},{\"data\" : {\"source\" : \"1\",\"target\" : \"70\"}},{\"data\" : {\"source\" : \"1\",\"target\" : \"73\"}},{\"data\" : {\"source\" : \"1\",\"target\" : \"78\"}},{\"data\" : {\"source\" : \"1\",\"target\" : \"89\"}},{\"data\" : {\"source\" : \"2\",\"target\" : \"15\"}},{\"data\" : {\"source\" : \"2\",\"target\" : \"24\"}},{\"data\" : {\"source\" : \"2\",\"target\" : \"31\"}},{\"data\" : {\"source\" : \"2\",\"target\" : \"36\"}},{\"data\" : {\"source\" : \"2\",\"target\" : \"41\"}},{\"data\" : {\"source\" : \"2\",\"target\" : \"49\"}},{\"data\" : {\"source\" : \"2\",\"target\" : \"51\"}},{\"data\" : {\"source\" : \"2\",\"target\" : \"64\"}},{\"data\" : {\"source\" : \"2\",\"target\" : \"68\"}},{\"data\" : {\"source\" : \"2\",\"target\" : \"79\"}},{\"data\" : {\"source\" : \"2\",\"target\" : \"80\"}},{\"data\" : {\"source\" : \"2\",\"target\" : \"85\"}},{\"data\" : {\"source\" : \"3\",\"target\" : \"32\"}},{\"data\" : {\"source\" : \"3\",\"target\" : \"33\"}},{\"data\" : {\"source\" : \"3\",\"target\" : \"42\"}},{\"data\" : {\"source\" : \"3\",\"target\" : \"50\"}},{\"data\" : {\"source\" : \"3\",\"target\" : \"56\"}},{\"data\" : {\"source\" : \"3\",\"target\" : \"62\"}},{\"data\" : {\"source\" : \"3\",\"target\" : \"64\"}},{\"data\" : {\"source\" : \"3\",\"target\" : \"68\"}},{\"data\" : {\"source\" : \"3\",\"target\" : \"78\"}},{\"data\" : {\"source\" : \"3\",\"target\" : \"83\"}},{\"data\" : {\"source\" : \"3\",\"target\" : \"86\"}},{\"data\" : {\"source\" : \"3\",\"target\" : \"90\"}},{\"data\" : {\"source\" : \"4\",\"target\" : \"23\"}},{\"data\" : {\"source\" : \"4\",\"target\" : \"24\"}},{\"data\" : {\"source\" : \"4\",\"target\" : \"34\"}},{\"data\" : {\"source\" : \"4\",\"target\" : \"43\"}},{\"data\" : {\"source\" : \"4\",\"target\" : \"48\"}},{\"data\" : {\"source\" : \"4\",\"target\" : \"63\"}},{\"data\" : {\"source\" : \"4\",\"target\" : \"65\"}},{\"data\" : {\"source\" : \"4\",\"target\" : \"66\"}},{\"data\" : {\"source\" : \"4\",\"target\" : \"75\"}},{\"data\" : {\"source\" : \"4\",\"target\" : \"79\"}},{\"data\" : {\"source\" : \"4\",\"target\" : \"87\"}},{\"data\" : {\"source\" : \"4\",\"target\" : \"89\"}},{\"data\" : {\"source\" : \"5\",\"target\" : \"26\"}},{\"data\" : {\"source\" : \"5\",\"target\" : \"38\"}},{\"data\" : {\"source\" : \"5\",\"target\" : \"40\"}},{\"data\" : {\"source\" : \"5\",\"target\" : \"44\"}},{\"data\" : {\"source\" : \"5\",\"target\" : \"55\"}},{\"data\" : {\"source\" : \"5\",\"target\" : \"57\"}},{\"data\" : {\"source\" : \"5\",\"target\" : \"64\"}},{\"data\" : {\"source\" : \"5\",\"target\" : \"75\"}},{\"data\" : {\"source\" : \"5\",\"target\" : \"79\"}},{\"data\" : {\"source\" : \"5\",\"target\" : \"80\"}},{\"data\" : {\"source\" : \"5\",\"target\" : \"81\"}},{\"data\" : {\"source\" : \"5\",\"target\" : \"86\"}},{\"data\" : {\"source\" : \"6\",\"target\" : \"15\"}},{\"data\" : {\"source\" : \"6\",\"target\" : \"30\"}},{\"data\" : {\"source\" : \"6\",\"target\" : \"45\"}},{\"data\" : {\"source\" : \"6\",\"target\" : \"51\"}},{\"data\" : {\"source\" : \"6\",\"target\" : \"53\"}},{\"data\" : {\"source\" : \"6\",\"target\" : \"58\"}},{\"data\" : {\"source\" : \"6\",\"target\" : \"59\"}},{\"data\" : {\"source\" : \"6\",\"target\" : \"65\"}},{\"data\" : {\"source\" : \"6\",\"target\" : \"72\"}},{\"data\" : {\"source\" : \"6\",\"target\" : \"73\"}},{\"data\" : {\"source\" : \"6\",\"target\" : \"85\"}},{\"data\" : {\"source\" : \"6\",\"target\" : \"91\"}},{\"data\" : {\"source\" : \"7\",\"target\" : \"31\"}},{\"data\" : {\"source\" : \"7\",\"target\" : \"33\"}},{\"data\" : {\"source\" : \"7\",\"target\" : \"34\"}},{\"data\" : {\"source\" : \"7\",\"target\" : \"46\"}},{\"data\" : {\"source\" : \"7\",\"target\" : \"59\"}},{\"data\" : {\"source\" : \"7\",\"target\" : \"62\"}},{\"data\" : {\"source\" : \"7\",\"target\" : \"66\"}},{\"data\" : {\"source\" : \"7\",\"target\" : \"74\"}},{\"data\" : {\"source\" : \"7\",\"target\" : \"76\"}},{\"data\" : {\"source\" : \"7\",\"target\" : \"77\"}},{\"data\" : {\"source\" : \"7\",\"target\" : \"90\"}},{\"data\" : {\"source\" : \"7\",\"target\" : \"91\"}},{\"data\" : {\"source\" : \"8\",\"target\" : \"17\"}},{\"data\" : {\"source\" : \"8\",\"target\" : \"27\"}},{\"data\" : {\"source\" : \"8\",\"target\" : \"29\"}},{\"data\" : {\"source\" : \"8\",\"target\" : \"41\"}},{\"data\" : {\"source\" : \"8\",\"target\" : \"50\"}},{\"data\" : {\"source\" : \"8\",\"target\" : \"60\"}},{\"data\" : {\"source\" : \"8\",\"target\" : \"69\"}},{\"data\" : {\"source\" : \"8\",\"target\" : \"70\"}},{\"data\" : {\"source\" : \"8\",\"target\" : \"71\"}},{\"data\" : {\"source\" : \"8\",\"target\" : \"72\"}},{\"data\" : {\"source\" : \"8\",\"target\" : \"73\"}},{\"data\" : {\"source\" : \"8\",\"target\" : \"90\"}},{\"data\" : {\"source\" : \"9\",\"target\" : \"21\"}},{\"data\" : {\"source\" : \"9\",\"target\" : \"31\"}},{\"data\" : {\"source\" : \"9\",\"target\" : \"37\"}},{\"data\" : {\"source\" : \"9\",\"target\" : \"51\"}},{\"data\" : {\"source\" : \"9\",\"target\" : \"52\"}},{\"data\" : {\"source\" : \"9\",\"target\" : \"54\"}},{\"data\" : {\"source\" : \"9\",\"target\" : \"66\"}},{\"data\" : {\"source\" : \"9\",\"target\" : \"68\"}},{\"data\" : {\"source\" : \"9\",\"target\" : \"70\"}},{\"data\" : {\"source\" : \"9\",\"target\" : \"75\"}},{\"data\" : {\"source\" : \"9\",\"target\" : \"81\"}},{\"data\" : {\"source\" : \"9\",\"target\" : \"87\"}},{\"data\" : {\"source\" : \"10\",\"target\" : \"16\"}},{\"data\" : {\"source\" : \"10\",\"target\" : \"19\"}},{\"data\" : {\"source\" : \"10\",\"target\" : \"24\"}},{\"data\" : {\"source\" : \"10\",\"target\" : \"42\"}},{\"data\" : {\"source\" : \"10\",\"target\" : \"45\"}},{\"data\" : {\"source\" : \"10\",\"target\" : \"61\"}},{\"data\" : {\"source\" : \"10\",\"target\" : \"65\"}},{\"data\" : {\"source\" : \"10\",\"target\" : \"71\"}},{\"data\" : {\"source\" : \"10\",\"target\" : \"76\"}},{\"data\" : {\"source\" : \"10\",\"target\" : \"83\"}},{\"data\" : {\"source\" : \"10\",\"target\" : \"84\"}},{\"data\" : {\"source\" : \"10\",\"target\" : \"89\"}},{\"data\" : {\"source\" : \"11\",\"target\" : \"22\"}},{\"data\" : {\"source\" : \"11\",\"target\" : \"32\"}},{\"data\" : {\"source\" : \"11\",\"target\" : \"45\"}},{\"data\" : {\"source\" : \"11\",\"target\" : \"53\"}},{\"data\" : {\"source\" : \"11\",\"target\" : \"61\"}},{\"data\" : {\"source\" : \"11\",\"target\" : \"62\"}},{\"data\" : {\"source\" : \"11\",\"target\" : \"63\"}},{\"data\" : {\"source\" : \"11\",\"target\" : \"67\"}},{\"data\" : {\"source\" : \"11\",\"target\" : \"82\"}},{\"data\" : {\"source\" : \"11\",\"target\" : \"84\"}},{\"data\" : {\"source\" : \"11\",\"target\" : \"86\"}},{\"data\" : {\"source\" : \"11\",\"target\" : \"87\"}},{\"data\" : {\"source\" : \"12\",\"target\" : \"16\"}},{\"data\" : {\"source\" : \"12\",\"target\" : \"26\"}},{\"data\" : {\"source\" : \"12\",\"target\" : \"28\"}},{\"data\" : {\"source\" : \"12\",\"target\" : \"40\"}},{\"data\" : {\"source\" : \"12\",\"target\" : \"43\"}},{\"data\" : {\"source\" : \"12\",\"target\" : \"44\"}},{\"data\" : {\"source\" : \"12\",\"target\" : \"46\"}},{\"data\" : {\"source\" : \"12\",\"target\" : \"49\"}},{\"data\" : {\"source\" : \"12\",\"target\" : \"69\"}},{\"data\" : {\"source\" : \"12\",\"target\" : \"77\"}},{\"data\" : {\"source\" : \"12\",\"target\" : \"84\"}},{\"data\" : {\"source\" : \"12\",\"target\" : \"85\"}},{\"data\" : {\"source\" : \"13\",\"target\" : \"14\"}},{\"data\" : {\"source\" : \"13\",\"target\" : \"23\"}},{\"data\" : {\"source\" : \"13\",\"target\" : \"27\"}},{\"data\" : {\"source\" : \"13\",\"target\" : \"35\"}},{\"data\" : {\"source\" : \"13\",\"target\" : \"40\"}},{\"data\" : {\"source\" : \"13\",\"target\" : \"41\"}},{\"data\" : {\"source\" : \"13\",\"target\" : \"61\"}},{\"data\" : {\"source\" : \"13\",\"target\" : \"64\"}},{\"data\" : {\"source\" : \"13\",\"target\" : \"72\"}},{\"data\" : {\"source\" : \"13\",\"target\" : \"78\"}},{\"data\" : {\"source\" : \"13\",\"target\" : \"82\"}},{\"data\" : {\"source\" : \"13\",\"target\" : \"83\"}},{\"data\" : {\"source\" : \"14\",\"target\" : \"22\"}},{\"data\" : {\"source\" : \"14\",\"target\" : \"39\"}},{\"data\" : {\"source\" : \"14\",\"target\" : \"48\"}},{\"data\" : {\"source\" : \"14\",\"target\" : \"49\"}},{\"data\" : {\"source\" : \"14\",\"target\" : \"53\"}},{\"data\" : {\"source\" : \"14\",\"target\" : \"54\"}},{\"data\" : {\"source\" : \"14\",\"target\" : \"71\"}},{\"data\" : {\"source\" : \"14\",\"target\" : \"72\"}},{\"data\" : {\"source\" : \"14\",\"target\" : \"78\"}},{\"data\" : {\"source\" : \"14\",\"target\" : \"80\"}},{\"data\" : {\"source\" : \"14\",\"target\" : \"91\"}},{\"data\" : {\"source\" : \"15\",\"target\" : \"21\"}},{\"data\" : {\"source\" : \"15\",\"target\" : \"31\"}},{\"data\" : {\"source\" : \"15\",\"target\" : \"43\"}},{\"data\" : {\"source\" : \"15\",\"target\" : \"50\"}},{\"data\" : {\"source\" : \"15\",\"target\" : \"65\"}},{\"data\" : {\"source\" : \"15\",\"target\" : \"67\"}},{\"data\" : {\"source\" : \"15\",\"target\" : \"77\"}},{\"data\" : {\"source\" : \"15\",\"target\" : \"78\"}},{\"data\" : {\"source\" : \"15\",\"target\" : \"79\"}},{\"data\" : {\"source\" : \"15\",\"target\" : \"91\"}},{\"data\" : {\"source\" : \"16\",\"target\" : \"30\"}},{\"data\" : {\"source\" : \"16\",\"target\" : \"34\"}},{\"data\" : {\"source\" : \"16\",\"target\" : \"46\"}},{\"data\" : {\"source\" : \"16\",\"target\" : \"56\"}},{\"data\" : {\"source\" : \"16\",\"target\" : \"65\"}},{\"data\" : {\"source\" : \"16\",\"target\" : \"67\"}},{\"data\" : {\"source\" : \"16\",\"target\" : \"74\"}},{\"data\" : {\"source\" : \"16\",\"target\" : \"81\"}},{\"data\" : {\"source\" : \"16\",\"target\" : \"83\"}},{\"data\" : {\"source\" : \"16\",\"target\" : \"85\"}},{\"data\" : {\"source\" : \"17\",\"target\" : \"19\"}},{\"data\" : {\"source\" : \"17\",\"target\" : \"25\"}},{\"data\" : {\"source\" : \"17\",\"target\" : \"28\"}},{\"data\" : {\"source\" : \"17\",\"target\" : \"34\"}},{\"data\" : {\"source\" : \"17\",\"target\" : \"57\"}},{\"data\" : {\"source\" : \"17\",\"target\" : \"73\"}},{\"data\" : {\"source\" : \"17\",\"target\" : \"76\"}},{\"data\" : {\"source\" : \"17\",\"target\" : \"80\"}},{\"data\" : {\"source\" : \"17\",\"target\" : \"82\"}},{\"data\" : {\"source\" : \"17\",\"target\" : \"88\"}},{\"data\" : {\"source\" : \"17\",\"target\" : \"90\"}},{\"data\" : {\"source\" : \"18\",\"target\" : \"19\"}},{\"data\" : {\"source\" : \"18\",\"target\" : \"26\"}},{\"data\" : {\"source\" : \"18\",\"target\" : \"32\"}},{\"data\" : {\"source\" : \"18\",\"target\" : \"38\"}},{\"data\" : {\"source\" : \"18\",\"target\" : \"45\"}},{\"data\" : {\"source\" : \"18\",\"target\" : \"47\"}},{\"data\" : {\"source\" : \"18\",\"target\" : \"60\"}},{\"data\" : {\"source\" : \"18\",\"target\" : \"73\"}},{\"data\" : {\"source\" : \"18\",\"target\" : \"74\"}},{\"data\" : {\"source\" : \"18\",\"target\" : \"81\"}},{\"data\" : {\"source\" : \"18\",\"target\" : \"88\"}},{\"data\" : {\"source\" : \"18\",\"target\" : \"91\"}},{\"data\" : {\"source\" : \"19\",\"target\" : \"29\"}},{\"data\" : {\"source\" : \"19\",\"target\" : \"37\"}},{\"data\" : {\"source\" : \"19\",\"target\" : \"57\"}},{\"data\" : {\"source\" : \"19\",\"target\" : \"58\"}},{\"data\" : {\"source\" : \"19\",\"target\" : \"60\"}},{\"data\" : {\"source\" : \"19\",\"target\" : \"61\"}},{\"data\" : {\"source\" : \"19\",\"target\" : \"74\"}},{\"data\" : {\"source\" : \"19\",\"target\" : \"82\"}},{\"data\" : {\"source\" : \"19\",\"target\" : \"89\"}},{\"data\" : {\"source\" : \"20\",\"target\" : \"25\"}},{\"data\" : {\"source\" : \"20\",\"target\" : \"35\"}},{\"data\" : {\"source\" : \"20\",\"target\" : \"37\"}},{\"data\" : {\"source\" : \"20\",\"target\" : \"39\"}},{\"data\" : {\"source\" : \"20\",\"target\" : \"49\"}},{\"data\" : {\"source\" : \"20\",\"target\" : \"52\"}},{\"data\" : {\"source\" : \"20\",\"target\" : \"54\"}},{\"data\" : {\"source\" : \"20\",\"target\" : \"59\"}},{\"data\" : {\"source\" : \"20\",\"target\" : \"63\"}},{\"data\" : {\"source\" : \"20\",\"target\" : \"85\"}},{\"data\" : {\"source\" : \"20\",\"target\" : \"88\"}},{\"data\" : {\"source\" : \"20\",\"target\" : \"89\"}},{\"data\" : {\"source\" : \"21\",\"target\" : \"25\"}},{\"data\" : {\"source\" : \"21\",\"target\" : \"29\"}},{\"data\" : {\"source\" : \"21\",\"target\" : \"38\"}},{\"data\" : {\"source\" : \"21\",\"target\" : \"46\"}},{\"data\" : {\"source\" : \"21\",\"target\" : \"50\"}},{\"data\" : {\"source\" : \"21\",\"target\" : \"55\"}},{\"data\" : {\"source\" : \"21\",\"target\" : \"68\"}},{\"data\" : {\"source\" : \"21\",\"target\" : \"75\"}},{\"data\" : {\"source\" : \"21\",\"target\" : \"77\"}},{\"data\" : {\"source\" : \"21\",\"target\" : \"83\"}},{\"data\" : {\"source\" : \"22\",\"target\" : \"23\"}},{\"data\" : {\"source\" : \"22\",\"target\" : \"33\"}},{\"data\" : {\"source\" : \"22\",\"target\" : \"54\"}},{\"data\" : {\"source\" : \"22\",\"target\" : \"60\"}},{\"data\" : {\"source\" : \"22\",\"target\" : \"61\"}},{\"data\" : {\"source\" : \"22\",\"target\" : \"73\"}},{\"data\" : {\"source\" : \"22\",\"target\" : \"75\"}},{\"data\" : {\"source\" : \"22\",\"target\" : \"80\"}},{\"data\" : {\"source\" : \"22\",\"target\" : \"86\"}},{\"data\" : {\"source\" : \"23\",\"target\" : \"58\"}},{\"data\" : {\"source\" : \"23\",\"target\" : \"64\"}},{\"data\" : {\"source\" : \"23\",\"target\" : \"65\"}},{\"data\" : {\"source\" : \"23\",\"target\" : \"68\"}},{\"data\" : {\"source\" : \"23\",\"target\" : \"73\"}},{\"data\" : {\"source\" : \"23\",\"target\" : \"76\"}},{\"data\" : {\"source\" : \"23\",\"target\" : \"82\"}},{\"data\" : {\"source\" : \"23\",\"target\" : \"87\"}},{\"data\" : {\"source\" : \"24\",\"target\" : \"43\"}},{\"data\" : {\"source\" : \"24\",\"target\" : \"47\"}},{\"data\" : {\"source\" : \"24\",\"target\" : \"59\"}},{\"data\" : {\"source\" : \"24\",\"target\" : \"64\"}},{\"data\" : {\"source\" : \"24\",\"target\" : \"66\"}},{\"data\" : {\"source\" : \"24\",\"target\" : \"76\"}},{\"data\" : {\"source\" : \"24\",\"target\" : \"84\"}},{\"data\" : {\"source\" : \"24\",\"target\" : \"85\"}},{\"data\" : {\"source\" : \"24\",\"target\" : \"86\"}},{\"data\" : {\"source\" : \"25\",\"target\" : \"42\"}},{\"data\" : {\"source\" : \"25\",\"target\" : \"46\"}},{\"data\" : {\"source\" : \"25\",\"target\" : \"47\"}},{\"data\" : {\"source\" : \"25\",\"target\" : \"49\"}},{\"data\" : {\"source\" : \"25\",\"target\" : \"55\"}},{\"data\" : {\"source\" : \"25\",\"target\" : \"69\"}},{\"data\" : {\"source\" : \"25\",\"target\" : \"76\"}},{\"data\" : {\"source\" : \"25\",\"target\" : \"80\"}},{\"data\" : {\"source\" : \"25\",\"target\" : \"89\"}},{\"data\" : {\"source\" : \"26\",\"target\" : \"35\"}},{\"data\" : {\"source\" : \"26\",\"target\" : \"45\"}},{\"data\" : {\"source\" : \"26\",\"target\" : \"67\"}},{\"data\" : {\"source\" : \"26\",\"target\" : \"69\"}},{\"data\" : {\"source\" : \"26\",\"target\" : \"70\"}},{\"data\" : {\"source\" : \"26\",\"target\" : \"77\"}},{\"data\" : {\"source\" : \"26\",\"target\" : \"79\"}},{\"data\" : {\"source\" : \"26\",\"target\" : \"86\"}},{\"data\" : {\"source\" : \"26\",\"target\" : \"88\"}},{\"data\" : {\"source\" : \"27\",\"target\" : \"28\"}},{\"data\" : {\"source\" : \"27\",\"target\" : \"36\"}},{\"data\" : {\"source\" : \"27\",\"target\" : \"39\"}},{\"data\" : {\"source\" : \"27\",\"target\" : \"40\"}},{\"data\" : {\"source\" : \"27\",\"target\" : \"46\"}},{\"data\" : {\"source\" : \"27\",\"target\" : \"58\"}},{\"data\" : {\"source\" : \"27\",\"target\" : \"60\"}},{\"data\" : {\"source\" : \"27\",\"target\" : \"70\"}},{\"data\" : {\"source\" : \"27\",\"target\" : \"83\"}},{\"data\" : {\"source\" : \"27\",\"target\" : \"87\"}},{\"data\" : {\"source\" : \"28\",\"target\" : \"33\"}},{\"data\" : {\"source\" : \"28\",\"target\" : \"34\"}},{\"data\" : {\"source\" : \"28\",\"target\" : \"36\"}},{\"data\" : {\"source\" : \"28\",\"target\" : \"44\"}},{\"data\" : {\"source\" : \"28\",\"target\" : \"71\"}},{\"data\" : {\"source\" : \"28\",\"target\" : \"79\"}},{\"data\" : {\"source\" : \"28\",\"target\" : \"84\"}},{\"data\" : {\"source\" : \"28\",\"target\" : \"87\"}},{\"data\" : {\"source\" : \"28\",\"target\" : \"88\"}},{\"data\" : {\"source\" : \"29\",\"target\" : \"37\"}},{\"data\" : {\"source\" : \"29\",\"target\" : \"38\"}},{\"data\" : {\"source\" : \"29\",\"target\" : \"51\"}},{\"data\" : {\"source\" : \"29\",\"target\" : \"56\"}},{\"data\" : {\"source\" : \"29\",\"target\" : \"58\"}},{\"data\" : {\"source\" : \"29\",\"target\" : \"69\"}},{\"data\" : {\"source\" : \"29\",\"target\" : \"72\"}},{\"data\" : {\"source\" : \"29\",\"target\" : \"83\"}},{\"data\" : {\"source\" : \"29\",\"target\" : \"84\"}},{\"data\" : {\"source\" : \"30\",\"target\" : \"36\"}},{\"data\" : {\"source\" : \"30\",\"target\" : \"50\"}},{\"data\" : {\"source\" : \"30\",\"target\" : \"53\"}},{\"data\" : {\"source\" : \"30\",\"target\" : \"58\"}},{\"data\" : {\"source\" : \"30\",\"target\" : \"63\"}},{\"data\" : {\"source\" : \"30\",\"target\" : \"67\"}},{\"data\" : {\"source\" : \"30\",\"target\" : \"74\"}},{\"data\" : {\"source\" : \"30\",\"target\" : \"89\"}},{\"data\" : {\"source\" : \"30\",\"target\" : \"90\"}},{\"data\" : {\"source\" : \"31\",\"target\" : \"32\"}},{\"data\" : {\"source\" : \"31\",\"target\" : \"44\"}},{\"data\" : {\"source\" : \"31\",\"target\" : \"46\"}},{\"data\" : {\"source\" : \"31\",\"target\" : \"54\"}},{\"data\" : {\"source\" : \"31\",\"target\" : \"70\"}},{\"data\" : {\"source\" : \"31\",\"target\" : \"72\"}},{\"data\" : {\"source\" : \"31\",\"target\" : \"79\"}},{\"data\" : {\"source\" : \"31\",\"target\" : \"90\"}},{\"data\" : {\"source\" : \"32\",\"target\" : \"33\"}},{\"data\" : {\"source\" : \"32\",\"target\" : \"44\"}},{\"data\" : {\"source\" : \"32\",\"target\" : \"67\"}},{\"data\" : {\"source\" : \"32\",\"target\" : \"72\"}},{\"data\" : {\"source\" : \"32\",\"target\" : \"73\"}},{\"data\" : {\"source\" : \"32\",\"target\" : \"81\"}},{\"data\" : {\"source\" : \"32\",\"target\" : \"83\"}},{\"data\" : {\"source\" : \"32\",\"target\" : \"87\"}},{\"data\" : {\"source\" : \"33\",\"target\" : \"60\"}},{\"data\" : {\"source\" : \"33\",\"target\" : \"71\"}},{\"data\" : {\"source\" : \"33\",\"target\" : \"75\"}},{\"data\" : {\"source\" : \"33\",\"target\" : \"76\"}},{\"data\" : {\"source\" : \"33\",\"target\" : \"79\"}},{\"data\" : {\"source\" : \"33\",\"target\" : \"83\"}},{\"data\" : {\"source\" : \"33\",\"target\" : \"91\"}},{\"data\" : {\"source\" : \"34\",\"target\" : \"56\"}},{\"data\" : {\"source\" : \"34\",\"target\" : \"59\"}},{\"data\" : {\"source\" : \"34\",\"target\" : \"75\"}},{\"data\" : {\"source\" : \"34\",\"target\" : \"77\"}},{\"data\" : {\"source\" : \"34\",\"target\" : \"81\"}},{\"data\" : {\"source\" : \"34\",\"target\" : \"88\"}},{\"data\" : {\"source\" : \"34\",\"target\" : \"89\"}},{\"data\" : {\"source\" : \"35\",\"target\" : \"36\"}},{\"data\" : {\"source\" : \"35\",\"target\" : \"37\"}},{\"data\" : {\"source\" : \"35\",\"target\" : \"41\"}},{\"data\" : {\"source\" : \"35\",\"target\" : \"56\"}},{\"data\" : {\"source\" : \"35\",\"target\" : \"57\"}},{\"data\" : {\"source\" : \"35\",\"target\" : \"61\"}},{\"data\" : {\"source\" : \"35\",\"target\" : \"67\"}},{\"data\" : {\"source\" : \"35\",\"target\" : \"70\"}},{\"data\" : {\"source\" : \"35\",\"target\" : \"85\"}},{\"data\" : {\"source\" : \"36\",\"target\" : \"49\"}},{\"data\" : {\"source\" : \"36\",\"target\" : \"56\"}},{\"data\" : {\"source\" : \"36\",\"target\" : \"57\"}},{\"data\" : {\"source\" : \"36\",\"target\" : \"63\"}},{\"data\" : {\"source\" : \"36\",\"target\" : \"68\"}},{\"data\" : {\"source\" : \"36\",\"target\" : \"87\"}},{\"data\" : {\"source\" : \"36\",\"target\" : \"90\"}},{\"data\" : {\"source\" : \"37\",\"target\" : \"47\"}},{\"data\" : {\"source\" : \"37\",\"target\" : \"58\"}},{\"data\" : {\"source\" : \"37\",\"target\" : \"66\"}},{\"data\" : {\"source\" : \"37\",\"target\" : \"78\"}},{\"data\" : {\"source\" : \"37\",\"target\" : \"81\"}},{\"data\" : {\"source\" : \"37\",\"target\" : \"85\"}},{\"data\" : {\"source\" : \"38\",\"target\" : \"43\"}},{\"data\" : {\"source\" : \"38\",\"target\" : \"44\"}},{\"data\" : {\"source\" : \"38\",\"target\" : \"47\"}},{\"data\" : {\"source\" : \"38\",\"target\" : \"52\"}},{\"data\" : {\"source\" : \"38\",\"target\" : \"61\"}},{\"data\" : {\"source\" : \"38\",\"target\" : \"80\"}},{\"data\" : {\"source\" : \"38\",\"target\" : \"83\"}},{\"data\" : {\"source\" : \"38\",\"target\" : \"91\"}},{\"data\" : {\"source\" : \"39\",\"target\" : \"44\"}},{\"data\" : {\"source\" : \"39\",\"target\" : \"46\"}},{\"data\" : {\"source\" : \"39\",\"target\" : \"48\"}},{\"data\" : {\"source\" : \"39\",\"target\" : \"52\"}},{\"data\" : {\"source\" : \"39\",\"target\" : \"58\"}},{\"data\" : {\"source\" : \"39\",\"target\" : \"66\"}},{\"data\" : {\"source\" : \"39\",\"target\" : \"82\"}},{\"data\" : {\"source\" : \"39\",\"target\" : \"88\"}},{\"data\" : {\"source\" : \"39\",\"target\" : \"91\"}},{\"data\" : {\"source\" : \"40\",\"target\" : \"42\"}},{\"data\" : {\"source\" : \"40\",\"target\" : \"43\"}},{\"data\" : {\"source\" : \"40\",\"target\" : \"48\"}},{\"data\" : {\"source\" : \"40\",\"target\" : \"49\"}},{\"data\" : {\"source\" : \"40\",\"target\" : \"57\"}},{\"data\" : {\"source\" : \"40\",\"target\" : \"74\"}},{\"data\" : {\"source\" : \"40\",\"target\" : \"75\"}},{\"data\" : {\"source\" : \"40\",\"target\" : \"83\"}},{\"data\" : {\"source\" : \"41\",\"target\" : \"50\"}},{\"data\" : {\"source\" : \"41\",\"target\" : \"51\"}},{\"data\" : {\"source\" : \"41\",\"target\" : \"55\"}},{\"data\" : {\"source\" : \"41\",\"target\" : \"61\"}},{\"data\" : {\"source\" : \"41\",\"target\" : \"65\"}},{\"data\" : {\"source\" : \"41\",\"target\" : \"71\"}},{\"data\" : {\"source\" : \"41\",\"target\" : \"80\"}},{\"data\" : {\"source\" : \"41\",\"target\" : \"88\"}},{\"data\" : {\"source\" : \"42\",\"target\" : \"45\"}},{\"data\" : {\"source\" : \"42\",\"target\" : \"47\"}},{\"data\" : {\"source\" : \"42\",\"target\" : \"48\"}},{\"data\" : {\"source\" : \"42\",\"target\" : \"64\"}},{\"data\" : {\"source\" : \"42\",\"target\" : \"69\"}},{\"data\" : {\"source\" : \"42\",\"target\" : \"71\"}},{\"data\" : {\"source\" : \"42\",\"target\" : \"74\"}},{\"data\" : {\"source\" : \"42\",\"target\" : \"90\"}},{\"data\" : {\"source\" : \"43\",\"target\" : \"49\"}},{\"data\" : {\"source\" : \"43\",\"target\" : \"52\"}},{\"data\" : {\"source\" : \"43\",\"target\" : \"61\"}},{\"data\" : {\"source\" : \"43\",\"target\" : \"66\"}},{\"data\" : {\"source\" : \"43\",\"target\" : \"67\"}},{\"data\" : {\"source\" : \"43\",\"target\" : \"78\"}},{\"data\" : {\"source\" : \"44\",\"target\" : \"66\"}},{\"data\" : {\"source\" : \"44\",\"target\" : \"72\"}},{\"data\" : {\"source\" : \"44\",\"target\" : \"80\"}},{\"data\" : {\"source\" : \"44\",\"target\" : \"82\"}},{\"data\" : {\"source\" : \"44\",\"target\" : \"84\"}},{\"data\" : {\"source\" : \"45\",\"target\" : \"63\"}},{\"data\" : {\"source\" : \"45\",\"target\" : \"71\"}},{\"data\" : {\"source\" : \"45\",\"target\" : \"72\"}},{\"data\" : {\"source\" : \"45\",\"target\" : \"82\"}},{\"data\" : {\"source\" : \"45\",\"target\" : \"85\"}},{\"data\" : {\"source\" : \"45\",\"target\" : \"88\"}},{\"data\" : {\"source\" : \"46\",\"target\" : \"55\"}},{\"data\" : {\"source\" : \"46\",\"target\" : \"58\"}},{\"data\" : {\"source\" : \"46\",\"target\" : \"85\"}},{\"data\" : {\"source\" : \"46\",\"target\" : \"90\"}},{\"data\" : {\"source\" : \"47\",\"target\" : \"59\"}},{\"data\" : {\"source\" : \"47\",\"target\" : \"69\"}},{\"data\" : {\"source\" : \"47\",\"target\" : \"78\"}},{\"data\" : {\"source\" : \"47\",\"target\" : \"86\"}},{\"data\" : {\"source\" : \"47\",\"target\" : \"91\"}},{\"data\" : {\"source\" : \"48\",\"target\" : \"55\"}},{\"data\" : {\"source\" : \"48\",\"target\" : \"63\"}},{\"data\" : {\"source\" : \"48\",\"target\" : \"70\"}},{\"data\" : {\"source\" : \"48\",\"target\" : \"74\"}},{\"data\" : {\"source\" : \"48\",\"target\" : \"79\"}},{\"data\" : {\"source\" : \"48\",\"target\" : \"91\"}},{\"data\" : {\"source\" : \"49\",\"target\" : \"53\"}},{\"data\" : {\"source\" : \"49\",\"target\" : \"68\"}},{\"data\" : {\"source\" : \"49\",\"target\" : \"71\"}},{\"data\" : {\"source\" : \"49\",\"target\" : \"89\"}},{\"data\" : {\"source\" : \"50\",\"target\" : \"56\"}},{\"data\" : {\"source\" : \"50\",\"target\" : \"71\"}},{\"data\" : {\"source\" : \"50\",\"target\" : \"77\"}},{\"data\" : {\"source\" : \"50\",\"target\" : \"86\"}},{\"data\" : {\"source\" : \"50\",\"target\" : \"89\"}},{\"data\" : {\"source\" : \"51\",\"target\" : \"52\"}},{\"data\" : {\"source\" : \"51\",\"target\" : \"56\"}},{\"data\" : {\"source\" : \"51\",\"target\" : \"59\"}},{\"data\" : {\"source\" : \"51\",\"target\" : \"73\"}},{\"data\" : {\"source\" : \"51\",\"target\" : \"80\"}},{\"data\" : {\"source\" : \"51\",\"target\" : \"84\"}},{\"data\" : {\"source\" : \"51\",\"target\" : \"87\"}},{\"data\" : {\"source\" : \"52\",\"target\" : \"53\"}},{\"data\" : {\"source\" : \"52\",\"target\" : \"60\"}},{\"data\" : {\"source\" : \"52\",\"target\" : \"61\"}},{\"data\" : {\"source\" : \"52\",\"target\" : \"77\"}},{\"data\" : {\"source\" : \"52\",\"target\" : \"87\"}},{\"data\" : {\"source\" : \"52\",\"target\" : \"88\"}},{\"data\" : {\"source\" : \"53\",\"target\" : \"58\"}},{\"data\" : {\"source\" : \"53\",\"target\" : \"60\"}},{\"data\" : {\"source\" : \"53\",\"target\" : \"62\"}},{\"data\" : {\"source\" : \"53\",\"target\" : \"71\"}},{\"data\" : {\"source\" : \"53\",\"target\" : \"77\"}},{\"data\" : {\"source\" : \"53\",\"target\" : \"84\"}},{\"data\" : {\"source\" : \"54\",\"target\" : \"57\"}},{\"data\" : {\"source\" : \"54\",\"target\" : \"59\"}},{\"data\" : {\"source\" : \"54\",\"target\" : \"62\"}},{\"data\" : {\"source\" : \"54\",\"target\" : \"63\"}},{\"data\" : {\"source\" : \"54\",\"target\" : \"69\"}},{\"data\" : {\"source\" : \"54\",\"target\" : \"70\"}},{\"data\" : {\"source\" : \"54\",\"target\" : \"80\"}},{\"data\" : {\"source\" : \"55\",\"target\" : \"64\"}},{\"data\" : {\"source\" : \"55\",\"target\" : \"65\"}},{\"data\" : {\"source\" : \"55\",\"target\" : \"70\"}},{\"data\" : {\"source\" : \"55\",\"target\" : \"81\"}},{\"data\" : {\"source\" : \"55\",\"target\" : \"88\"}},{\"data\" : {\"source\" : \"56\",\"target\" : \"57\"}},{\"data\" : {\"source\" : \"56\",\"target\" : \"81\"}},{\"data\" : {\"source\" : \"56\",\"target\" : \"84\"}},{\"data\" : {\"source\" : \"56\",\"target\" : \"86\"}},{\"data\" : {\"source\" : \"57\",\"target\" : \"62\"}},{\"data\" : {\"source\" : \"57\",\"target\" : \"69\"}},{\"data\" : {\"source\" : \"57\",\"target\" : \"75\"}},{\"data\" : {\"source\" : \"57\",\"target\" : \"82\"}},{\"data\" : {\"source\" : \"58\",\"target\" : \"68\"}},{\"data\" : {\"source\" : \"58\",\"target\" : \"76\"}},{\"data\" : {\"source\" : \"59\",\"target\" : \"63\"}},{\"data\" : {\"source\" : \"59\",\"target\" : \"73\"}},{\"data\" : {\"source\" : \"59\",\"target\" : \"77\"}},{\"data\" : {\"source\" : \"59\",\"target\" : \"86\"}},{\"data\" : {\"source\" : \"60\",\"target\" : \"70\"}},{\"data\" : {\"source\" : \"60\",\"target\" : \"74\"}},{\"data\" : {\"source\" : \"60\",\"target\" : \"75\"}},{\"data\" : {\"source\" : \"60\",\"target\" : \"77\"}},{\"data\" : {\"source\" : \"61\",\"target\" : \"86\"}},{\"data\" : {\"source\" : \"61\",\"target\" : \"89\"}},{\"data\" : {\"source\" : \"62\",\"target\" : \"66\"}},{\"data\" : {\"source\" : \"62\",\"target\" : \"68\"}},{\"data\" : {\"source\" : \"62\",\"target\" : \"69\"}},{\"data\" : {\"source\" : \"62\",\"target\" : \"74\"}},{\"data\" : {\"source\" : \"62\",\"target\" : \"78\"}},{\"data\" : {\"source\" : \"62\",\"target\" : \"84\"}},{\"data\" : {\"source\" : \"63\",\"target\" : \"79\"}},{\"data\" : {\"source\" : \"63\",\"target\" : \"82\"}},{\"data\" : {\"source\" : \"63\",\"target\" : \"90\"}},{\"data\" : {\"source\" : \"64\",\"target\" : \"81\"}},{\"data\" : {\"source\" : \"64\",\"target\" : \"82\"}},{\"data\" : {\"source\" : \"64\",\"target\" : \"85\"}},{\"data\" : {\"source\" : \"64\",\"target\" : \"90\"}},{\"data\" : {\"source\" : \"65\",\"target\" : \"83\"}},{\"data\" : {\"source\" : \"65\",\"target\" : \"87\"}},{\"data\" : {\"source\" : \"65\",\"target\" : \"88\"}},{\"data\" : {\"source\" : \"65\",\"target\" : \"91\"}},{\"data\" : {\"source\" : \"66\",\"target\" : \"74\"}},{\"data\" : {\"source\" : \"66\",\"target\" : \"81\"}},{\"data\" : {\"source\" : \"66\",\"target\" : \"82\"}},{\"data\" : {\"source\" : \"67\",\"target\" : \"70\"}},{\"data\" : {\"source\" : \"67\",\"target\" : \"74\"}},{\"data\" : {\"source\" : \"67\",\"target\" : \"78\"}},{\"data\" : {\"source\" : \"67\",\"target\" : \"87\"}},{\"data\" : {\"source\" : \"68\",\"target\" : \"75\"}},{\"data\" : {\"source\" : \"68\",\"target\" : \"76\"}},{\"data\" : {\"source\" : \"68\",\"target\" : \"78\"}},{\"data\" : {\"source\" : \"69\",\"target\" : \"72\"}},{\"data\" : {\"source\" : \"69\",\"target\" : \"77\"}},{\"data\" : {\"source\" : \"71\",\"target\" : \"79\"}},{\"data\" : {\"source\" : \"72\",\"target\" : \"78\"}},{\"data\" : {\"source\" : \"72\",\"target\" : \"85\"}},{\"data\" : {\"source\" : \"73\",\"target\" : \"81\"}},{\"data\" : {\"source\" : \"73\",\"target\" : \"90\"}},{\"data\" : {\"source\" : \"75\",\"target\" : \"89\"}},{\"data\" : {\"source\" : \"76\",\"target\" : \"80\"}},{\"data\" : {\"source\" : \"76\",\"target\" : \"84\"}},{\"data\" : {\"source\" : \"76\",\"target\" : \"91\"}},{\"data\" : {\"source\" : \"79\",\"target\" : \"86\"}}],\"layout\" : {\"name\" : \"cose\"},\"style\" : [{\"style\" : {\"content\" : \"data(id)\"},\"selector\" : \"node\"}]},\"height\" : 400,\"tool\" : \"cytoscape\"}\n",
       ",function(element,visualization){\n",
       "});\n",
       "}if(window.librariesLoadedFromGAP.hasOwnProperty(\"viz-tool-cytoscape\"\n",
       ")){myCallback()}else{var filenameString=JSON.stringify(\"viz-tool-cytoscape\"\n",
       ");var GAPcode=\"JUPVIZFileContents( LoadJavaScriptFile( \"+filenameString+\" ) );\";window.runGAP(GAPcode,function(result,error){if(error)throw Error(\"When loading library \"+filenameString+\": \"+error);result=result[\"text/plain\"];window.librariesLoadedFromGAP[\"viz-tool-cytoscape\"\n",
       "]=result;try{var whatItEvaluatesTo=eval(result)}catch(e){throw Error(\"Error evaluating code for library \"+filenameString+\": \"+e)}return myCallback()})}\n",
       "}if(window.librariesLoadedFromGAP.hasOwnProperty(\"main\"\n",
       ")){myCallback()}else{var filenameString=JSON.stringify(\"main\"\n",
       ");var GAPcode=\"JUPVIZFileContents( LoadJavaScriptFile( \"+filenameString+\" ) );\";window.runGAP(GAPcode,function(result,error){if(error)throw Error(\"When loading library \"+filenameString+\": \"+error);result=result[\"text/plain\"];window.librariesLoadedFromGAP[\"main\"\n",
       "]=result;try{var whatItEvaluatesTo=eval(result)}catch(e){throw Error(\"Error evaluating code for library \"+filenameString+\": \"+e)}return myCallback()})}\n",
       ";\n",
       "} )( element.get( 0 ) )"
      ]
     },
     "execution_count": 153,
     "metadata": {
      "application/javascript": ""
     },
     "output_type": "execute_result"
    }
   ],
   "source": [
    "LoadPackage(\"JupyterViz\");\n",
    "PlotGraph(UndirectedEdges(gr));"
   ]
  },
  {
   "cell_type": "code",
   "execution_count": null,
   "metadata": {},
   "outputs": [],
   "source": []
  }
 ],
 "metadata": {
  "kernelspec": {
   "display_name": "GAP 4",
   "language": "gap",
   "name": "gap-4"
  },
  "language_info": {
   "codemirror_mode": "gap",
   "file_extension": ".g",
   "mimetype": "text/x-gap",
   "name": "GAP 4",
   "nbconvert_exporter": "",
   "pygments_lexer": "gap",
   "version": "4.11.1"
  }
 },
 "nbformat": 4,
 "nbformat_minor": 2
}
