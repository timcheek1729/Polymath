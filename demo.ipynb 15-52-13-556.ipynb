{
 "cells": [
  {
   "cell_type": "code",
   "execution_count": 1,
   "metadata": {},
   "outputs": [
    {
     "data": {
      "text/plain": [
       "true"
      ]
     },
     "execution_count": 1,
     "metadata": {
      "text/plain": ""
     },
     "output_type": "execute_result"
    }
   ],
   "source": [
    "LoadPackage(\"grape\");"
   ]
  },
  {
   "cell_type": "code",
   "execution_count": 2,
   "metadata": {},
   "outputs": [
    {
     "data": {
      "text/plain": [
       "D(2*5)"
      ]
     },
     "execution_count": 2,
     "metadata": {
      "text/plain": ""
     },
     "output_type": "execute_result"
    }
   ],
   "source": [
    "G := PrimitiveGroup(5, 2);"
   ]
  },
  {
   "cell_type": "code",
   "execution_count": 3,
   "metadata": {},
   "outputs": [
    {
     "data": {
      "text/plain": [
       "[ (2,4)(3,5), (1,2,3,5,4) ]"
      ]
     },
     "execution_count": 3,
     "metadata": {
      "text/plain": ""
     },
     "output_type": "execute_result"
    }
   ],
   "source": [
    "GeneratorsOfGroup(G);"
   ]
  },
  {
   "cell_type": "code",
   "execution_count": 4,
   "metadata": {},
   "outputs": [
    {
     "data": {
      "text/plain": [
       "Group([ (2,4)(3,5) ])"
      ]
     },
     "execution_count": 4,
     "metadata": {
      "text/plain": ""
     },
     "output_type": "execute_result"
    }
   ],
   "source": [
    "H := Stabiliser(G, 1);"
   ]
  },
  {
   "cell_type": "code",
   "execution_count": 5,
   "metadata": {},
   "outputs": [
    {
     "data": {
      "text/plain": [
       "[ [ 1 ], [ 2, 4 ], [ 3, 5 ] ]"
      ]
     },
     "execution_count": 5,
     "metadata": {
      "text/plain": ""
     },
     "output_type": "execute_result"
    }
   ],
   "source": [
    "orbs := Orbits(H, MovedPoints(G));"
   ]
  },
  {
   "cell_type": "code",
   "execution_count": 6,
   "metadata": {},
   "outputs": [
    {
     "data": {
      "text/plain": [
       "[ 2, 4 ]"
      ]
     },
     "execution_count": 6,
     "metadata": {
      "text/plain": ""
     },
     "output_type": "execute_result"
    }
   ],
   "source": [
    "good_orb := orbs[2];"
   ]
  },
  {
   "cell_type": "code",
   "execution_count": 7,
   "metadata": {},
   "outputs": [
    {
     "data": {
      "text/plain": [
       "rec( adjacencies := [ [ 2, 3 ] ], group := Group( [ (1,2,4,5,3), (2,3)(4,5) ] ), isGraph := true, names := [ 1, 2, 4, 3, 5 ], order := 5, representatives := [ 1 ], schreierVector := [ -1, 1, 2, 1, 1 ] )"
      ]
     },
     "execution_count": 7,
     "metadata": {},
     "output_type": "execute_result"
    }
   ],
   "source": [
    "gr := Graph(G, [1], OnPoints, function(x, y) return y in good_orb; end);"
   ]
  },
  {
   "cell_type": "code",
   "execution_count": 8,
   "metadata": {},
   "outputs": [
    {
     "data": {
      "text/plain": [
       "[ [ 1, 2 ], [ 1, 3 ], [ 2, 4 ], [ 3, 5 ], [ 4, 5 ] ]"
      ]
     },
     "execution_count": 8,
     "metadata": {
      "text/plain": ""
     },
     "output_type": "execute_result"
    }
   ],
   "source": [
    "UndirectedEdges(gr);"
   ]
  },
  {
   "cell_type": "code",
   "execution_count": 9,
   "metadata": {},
   "outputs": [
    {
     "name": "stdout",
     "output_type": "stream",
     "text": [
      "[ 2, 3 ] [ 1, 4 ] [ 1, 5 ] [ 2, 5 ] [ 3, 4 ] "
     ]
    }
   ],
   "source": [
    "for x in [1,2,3,4,5] do\n",
    "    Print(Adjacency(gr,x),\" \");\n",
    "od;"
   ]
  },
  {
   "cell_type": "code",
   "execution_count": 13,
   "metadata": {},
   "outputs": [
    {
     "data": {
      "text/plain": [
       "[  ]"
      ]
     },
     "execution_count": 13,
     "metadata": {
      "text/plain": ""
     },
     "output_type": "execute_result"
    }
   ],
   "source": [
    "CompleteSubgraphsOfGivenSize(gr,5);"
   ]
  },
  {
   "cell_type": "code",
   "execution_count": 10,
   "metadata": {},
   "outputs": [
    {
     "data": {
      "text/plain": [
       "function( g, s, max, property ) ... end"
      ]
     },
     "execution_count": 10,
     "metadata": {
      "text/plain": ""
     },
     "output_type": "execute_result"
    }
   ],
   "source": [
    "OrbitRepsOnPutativeTuples := function(g,s,max,property)\n",
    "    local tuplefinder, tuples;\n",
    "    tuples:=[];\n",
    "    tuplefinder:=function(g,s,max)\n",
    "        local stab,sx,ssx,orb,orbs,rest,x;\n",
    "        if(Length(s)=max) then\n",
    "            Print(s,\"\\n\");\n",
    "            Add(tuples,s);\n",
    "            return;\n",
    "        fi;\n",
    "        if IsEmpty(s) then stab:=g;\n",
    "        else stab:= Stabilizer(g,s,OnSets);\n",
    "        fi;\n",
    "        orbs:=Orbits(stab,[1..DegreeAction(g)]);\n",
    "        for orb in orbs do\n",
    "            x:=Minimum(orb);\n",
    "            if (IsEmpty(s) or x>Maximum(s)) and property(Concatenation(s,[x])) then\n",
    "                sx :=Union(s,[x]);\n",
    "                ssx :=SmallestImageSet(g,sx);\n",
    "                if ssx=sx then\n",
    "                    tuplefinder(g,sx,max);\n",
    "                fi;\n",
    "            fi;\n",
    "        od;\n",
    "    end;\n",
    "    tuplefinder(g,s,max);\n",
    "    return tuples;\n",
    "end;"
   ]
  },
  {
   "cell_type": "code",
   "execution_count": 11,
   "metadata": {},
   "outputs": [
    {
     "data": {
      "text/plain": [
       "5"
      ]
     },
     "execution_count": 11,
     "metadata": {
      "text/plain": ""
     },
     "output_type": "execute_result"
    }
   ],
   "source": [
    "NrPrimitiveGroups(5);"
   ]
  },
  {
   "cell_type": "code",
   "execution_count": 12,
   "metadata": {},
   "outputs": [
    {
     "name": "stdout",
     "output_type": "stream",
     "text": [
      "C(5) D(2*5) AGL(1, 5) A(5) S(5) "
     ]
    }
   ],
   "source": [
    "for x in [1,2,3,4,5] do\n",
    "    Print(PrimitiveGroup(5,x),\" \");\n",
    "od;"
   ]
  },
  {
   "cell_type": "code",
   "execution_count": null,
   "metadata": {},
   "outputs": [],
   "source": []
  }
 ],
 "metadata": {
  "kernelspec": {
   "display_name": "GAP 4",
   "language": "gap",
   "name": "gap-4"
  },
  "language_info": {
   "codemirror_mode": "gap",
   "file_extension": ".g",
   "mimetype": "text/x-gap",
   "name": "GAP 4",
   "nbconvert_exporter": "",
   "pygments_lexer": "gap",
   "version": "4.11.1"
  }
 },
 "nbformat": 4,
 "nbformat_minor": 2
}
