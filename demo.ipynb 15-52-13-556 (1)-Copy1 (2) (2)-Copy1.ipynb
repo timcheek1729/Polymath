{
 "cells": [
  {
   "cell_type": "code",
   "execution_count": 1,
   "metadata": {
    "scrolled": true
   },
   "outputs": [
    {
     "data": {
      "text/plain": [
       "true"
      ]
     },
     "execution_count": 1,
     "metadata": {
      "text/plain": ""
     },
     "output_type": "execute_result"
    }
   ],
   "source": [
    "LoadPackage(\"grape\");"
   ]
  },
  {
   "cell_type": "code",
   "execution_count": 2,
   "metadata": {},
   "outputs": [
    {
     "data": {
      "text/plain": [
       "function( numColors, numOrbits ) ... end"
      ]
     },
     "execution_count": 2,
     "metadata": {
      "text/plain": ""
     },
     "output_type": "execute_result"
    }
   ],
   "source": [
    "allPartitions:=function(numColors,numOrbits)\n",
    "    local j, bigSet, x;\n",
    "    j:=PartitionsSet([2..numOrbits]);\n",
    "    bigSet:=[];\n",
    "    for x in j do\n",
    "        if Length(x)=numColors then\n",
    "            Add(bigSet,x);\n",
    "            #Print(Length(x),\" \",x,\"\\n\");\n",
    "        fi; \n",
    "    od;\n",
    "    return bigSet;\n",
    "end;"
   ]
  },
  {
   "cell_type": "code",
   "execution_count": 3,
   "metadata": {},
   "outputs": [
    {
     "data": {
      "text/plain": [
       "function( G, i, j ) ... end"
      ]
     },
     "execution_count": 3,
     "metadata": {
      "text/plain": ""
     },
     "output_type": "execute_result"
    }
   ],
   "source": [
    "checkCliques:= function(G,i,j)\n",
    "    local H, orbs, good_orb,success, J,J_i,o,gr,bigSet;\n",
    "    H := Stabiliser(G, 1);\n",
    "    orbs := Orbits(H, MovedPoints(G));\n",
    "    bigSet:=allPartitions(2,Length(orbs));\n",
    "    for J in bigSet do #fixes one possible partitioning of (nontrivial) orbits\n",
    "        success:=true;\n",
    "        for J_i in J do #fixes specific orbits we'll look at to create graph\n",
    "            #Print(J_i,\"--\");\n",
    "            good_orb:=[];\n",
    "            if Length(J)<>1 then\n",
    "                for o in J_i do #unions the orbits that J_i requires\n",
    "                    good_orb:=Concatenation(good_orb,orbs[o]);\n",
    "                od;\n",
    "            else\n",
    "                good_orb:=J;\n",
    "            fi;\n",
    "            #Print(good_orb,\";;\");\n",
    "            gr := Graph(G, [1], OnPoints, function(x, y) return y in good_orb; end);\n",
    "            #Print(CliqueNumber(gr),\",,\");\n",
    "            #Print(CliqueNumber(gr)>=i,\"**\",CliqueNumber(gr),\"**\",i );\n",
    "            #Print(CliqueNumber( gr )>=j);\n",
    "            if not(IsSimpleGraph(gr)) or CliqueNumber(gr)>=i or CliqueNumber( gr )>=j then\n",
    "                success:=false;\n",
    "                break; #so graph is bad, contains a K_i or K_j\n",
    "            fi;\n",
    "        od;\n",
    "        if success then\n",
    "            #Print(CliqueNumber(gr));\n",
    "            return true;\n",
    "        fi;\n",
    "        #Print(\".\");\n",
    "    od;\n",
    "    return false;\n",
    "end;"
   ]
  },
  {
   "cell_type": "code",
   "execution_count": 4,
   "metadata": {},
   "outputs": [
    {
     "data": {
      "text/plain": [
       "function( G, y ) ... end"
      ]
     },
     "execution_count": 4,
     "metadata": {
      "text/plain": ""
     },
     "output_type": "execute_result"
    }
   ],
   "source": [
    "cliqueData:=function(G,y)\n",
    "    local H,orbs,bigSet,theSet,maxMinSmall,minMaxSmall,min,max,m,J,J_i,o,valid,allCliques,good_orb,gr,everTrue,x;\n",
    "    H := Stabiliser(G, 1);\n",
    "    orbs := Orbits(H, MovedPoints(G));\n",
    "    if Length(orbs)>5 then\n",
    "        Print(G,\", \",Order(G),\",\\n\");\n",
    "        return [];\n",
    "    fi;\n",
    "    #NUM COLORINGS HERE      \n",
    "    bigSet:=allPartitions(3,Length(orbs));\n",
    "    theSet:=[];\n",
    "    everTrue:=false;\n",
    "    for J in bigSet do #fixes one possible partitioning of (nontrivial) orbits\n",
    "        valid:=true;\n",
    "        allCliques:=[];\n",
    "        for J_i in J do #fixes specific orbits we'll look at to create graph\n",
    "            good_orb:=[];\n",
    "            if Length(J)<>1 then\n",
    "                for o in J_i do #unions the orbits that J_i requires\n",
    "                    good_orb:=Concatenation(good_orb,orbs[o]);\n",
    "                od;\n",
    "            else\n",
    "                good_orb:=J;\n",
    "            fi;\n",
    "            gr := Graph(G, [1], OnPoints, function(x, y) return y in good_orb; end);\n",
    "            if not(IsSimpleGraph(gr)) then #so coloring is invalid\n",
    "                valid:=false;\n",
    "                break;\n",
    "            else\n",
    "                m:=CliqueNumber(gr);\n",
    "                Add(allCliques,m);\n",
    "            fi;\n",
    "        od;\n",
    "        if not(valid) then\n",
    "            break;\n",
    "        else\n",
    "            everTrue:=true;\n",
    "            min:=Minimum(allCliques);\n",
    "            if min>=2 and min<=4 then\n",
    "                Add(theSet,allCliques);\n",
    "            fi;\n",
    "        fi;\n",
    "    od;\n",
    "    if everTrue then\n",
    "        Print(y,\",\\t\",G,\",\\t\");\n",
    "        for x in theSet do\n",
    "            Print(x,\",\\t\");\n",
    "        od;\n",
    "        Print(\"\\n\");\n",
    "    fi;\n",
    "end;"
   ]
  },
  {
   "cell_type": "code",
   "execution_count": 15,
   "metadata": {},
   "outputs": [
    {
     "data": {
      "text/plain": [
       "[ 2, 3, 5, 7, 11, 13, 17, 19, 23, 29, 31, 37, 41, 43, 47, 53, 59, 61, 67, 71, 73, 79, 83, 89, 97, 101, 103, 107, 109, 113, 127, 131, 137, 139, 149, 151, 157, 163, 167, 173, 179, 181, 191, 193, 197, 199, 211, 223, 227, 229, 233, 239, 241, 251, 257, 263, 269, 271, 277, 281, 283, 293, 307, 311, 313, 317, 331, 337, 347, 349, 353, 359, 367, 373, 379, 383, 389, 397, 401, 409, 419, 421, 431, 433, 439, 443, 449, 457, 461, 463, 467, 479, 487, 491, 499, 503, 509, 521, 523, 541, 547, 557, 563, 569, 571, 577, 587, 593, 599, 601, 607, 613, 617, 619, 631, 641, 643, 647, 653, 659, 661, 673, 677, 683, 691, 701, 709, 719, 727, 733, 739, 743, 751, 757, 761, 769, 773, 787, 797, 809, 811, 821, 823, 827, 829, 839, 853, 857, 859, 863, 877, 881, 883, 887, 907, 911, 919, 929, 937, 941, 947, 953, 967, 971, 977, 983, 991, 997 ]"
      ]
     },
     "execution_count": 13,
     "metadata": {
      "text/plain": ""
     },
     "output_type": "execute_result"
    },
    {
     "data": {
      "text/plain": [
       "[ 2, 3, 5, 7 ]"
      ]
     },
     "execution_count": 14,
     "metadata": {
      "text/plain": ""
     },
     "output_type": "execute_result"
    }
   ],
   "source": [
    "j:=Primes;\n",
    "betterJ:=[];\n",
    "for x in j do\n",
    "    if x>1 and x<8 then\n",
    "    #if x>3 and x<7 then\n",
    "        Add(betterJ,x);\n",
    "    fi;\n",
    "od;"
   ]
  },
  {
   "cell_type": "code",
   "execution_count": 18,
   "metadata": {},
   "outputs": [
    {
     "name": "stdout",
     "output_type": "stream",
     "text": [
      "7,\tD(2*7),\t[ 2, 2, 2 ],\t\n"
     ]
    },
    {
     "data": {
      "text/plain": [
       "[ 5, 6, 7, 8, 9, 10 ]"
      ]
     },
     "execution_count": 17,
     "metadata": {
      "text/plain": ""
     },
     "output_type": "execute_result"
    }
   ],
   "source": [
    "betterJ:=[5..10];\n",
    "for y in betterJ do\n",
    "    l:=NrPrimitiveGroups(y);\n",
    "    for x in [1..l] do \n",
    "        G := PrimitiveGroup(y, x);\n",
    "        H := Stabiliser(G, 1);\n",
    "        orbs := Orbits(H, MovedPoints(G));\n",
    "        if (Length(orbs)-1)<>1 and Length(GeneratorsOfGroup(G))<> 1 then #so G is not cyclic\n",
    "            cliqueData(G,y);\n",
    "        fi;\n",
    "    od;\n",
    "od;"
   ]
  },
  {
   "cell_type": "code",
   "execution_count": null,
   "metadata": {},
   "outputs": [],
   "source": []
  },
  {
   "cell_type": "code",
   "execution_count": null,
   "metadata": {},
   "outputs": [],
   "source": []
  }
 ],
 "metadata": {
  "kernelspec": {
   "display_name": "GAP 4",
   "language": "gap",
   "name": "gap-4"
  },
  "language_info": {
   "codemirror_mode": "gap",
   "file_extension": ".g",
   "mimetype": "text/x-gap",
   "name": "GAP 4",
   "nbconvert_exporter": "",
   "pygments_lexer": "gap",
   "version": "4.11.1"
  }
 },
 "nbformat": 4,
 "nbformat_minor": 2
}
