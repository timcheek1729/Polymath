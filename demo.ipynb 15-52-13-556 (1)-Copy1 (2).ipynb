{
 "cells": [
  {
   "cell_type": "code",
   "execution_count": null,
   "metadata": {
    "scrolled": true
   },
   "outputs": [
    {
     "data": {
      "text/plain": [
       "true"
      ]
     },
     "execution_count": 1,
     "metadata": {
      "text/plain": ""
     },
     "output_type": "execute_result"
    }
   ],
   "source": [
    "LoadPackage(\"grape\");"
   ]
  },
  {
   "cell_type": "code",
   "execution_count": 2,
   "metadata": {},
   "outputs": [
    {
     "data": {
      "text/plain": [
       "function( numColors, numOrbits ) ... end"
      ]
     },
     "execution_count": 2,
     "metadata": {
      "text/plain": ""
     },
     "output_type": "execute_result"
    }
   ],
   "source": [
    "allPartitions:=function(numColors,numOrbits)\n",
    "    local j, bigSet, x;\n",
    "    j:=PartitionsSet([2..numOrbits]);\n",
    "    bigSet:=[];\n",
    "    for x in j do\n",
    "        if Length(x)=numColors then\n",
    "            Add(bigSet,x);\n",
    "            #Print(Length(x),\" \",x,\"\\n\");\n",
    "        fi; \n",
    "    od;\n",
    "    return bigSet;\n",
    "end;"
   ]
  },
  {
   "cell_type": "code",
   "execution_count": null,
   "metadata": {},
   "outputs": [
    {
     "data": {
      "text/plain": [
       "function( G, i, j ) ... end"
      ]
     },
     "execution_count": 3,
     "metadata": {
      "text/plain": ""
     },
     "output_type": "execute_result"
    }
   ],
   "source": [
    "checkCliques:= function(G,i,j)\n",
    "    local H, orbs, good_orb,success, J,J_i,o,gr,bigSet;\n",
    "    H := Stabiliser(G, 1);\n",
    "    orbs := Orbits(H, MovedPoints(G));\n",
    "    bigSet:=allPartitions(2,Length(orbs));\n",
    "    for J in bigSet do #fixes one possible partitioning of (nontrivial) orbits\n",
    "        success:=true;\n",
    "        for J_i in J do #fixes specific orbits we'll look at to create graph\n",
    "            #Print(J_i,\"--\");\n",
    "            good_orb:=[];\n",
    "            if Length(J)<>1 then\n",
    "                for o in J_i do #unions the orbits that J_i requires\n",
    "                    good_orb:=Concatenation(good_orb,orbs[o]);\n",
    "                od;\n",
    "            else\n",
    "                good_orb:=J;\n",
    "            fi;\n",
    "            #Print(good_orb,\";;\");\n",
    "            gr := Graph(G, [1], OnPoints, function(x, y) return y in good_orb; end);\n",
    "            #Print(CliqueNumber(gr),\",,\");\n",
    "            #Print(CliqueNumber(gr)>=i,\"**\",CliqueNumber(gr),\"**\",i );\n",
    "            #Print(CliqueNumber( gr )>=j);\n",
    "            if not(IsSimpleGraph(gr)) or CliqueNumber(gr)>=i or CliqueNumber( gr )>=j then\n",
    "                success:=false;\n",
    "                break; #so graph is bad, contains a K_i or K_j\n",
    "            fi;\n",
    "        od;\n",
    "        if success then\n",
    "            #Print(CliqueNumber(gr));\n",
    "            return true;\n",
    "        fi;\n",
    "        #Print(\".\");\n",
    "    od;\n",
    "    return false;\n",
    "end;"
   ]
  },
  {
   "cell_type": "code",
   "execution_count": 4,
   "metadata": {},
   "outputs": [
    {
     "data": {
      "text/plain": [
       "function( G ) ... end"
      ]
     },
     "execution_count": 4,
     "metadata": {
      "text/plain": ""
     },
     "output_type": "execute_result"
    }
   ],
   "source": [
    "cliqueData:=function(G)\n",
    "    local H,orbs,bigSet,maxMin,minMax,maxMinSmall,minMaxSmall,min,max,m,J,J_i,o,valid,allCliques,good_orb,gr,everTrue;\n",
    "    H := Stabiliser(G, 1);\n",
    "    orbs := Orbits(H, MovedPoints(G));\n",
    "    if Length(orbs)>15 then\n",
    "        Print(G,\", \",Order(G),\",\\n\");\n",
    "        return [];\n",
    "    fi;\n",
    "        \n",
    "    bigSet:=allPartitions(2,Length(orbs));\n",
    "    maxMin:=[0,0];\n",
    "    minMax:=[Order(G),Order(G)];\n",
    "    everTrue:=false;\n",
    "    for J in bigSet do #fixes one possible partitioning of (nontrivial) orbits\n",
    "        valid:=true;\n",
    "        allCliques:=[];\n",
    "        for J_i in J do #fixes specific orbits we'll look at to create graph\n",
    "            good_orb:=[];\n",
    "            if Length(J)<>1 then\n",
    "                for o in J_i do #unions the orbits that J_i requires\n",
    "                    good_orb:=Concatenation(good_orb,orbs[o]);\n",
    "                od;\n",
    "            else\n",
    "                good_orb:=J;\n",
    "            fi;\n",
    "            gr := Graph(G, [1], OnPoints, function(x, y) return y in good_orb; end);\n",
    "            if not(IsSimpleGraph(gr)) then #so coloring is invalid\n",
    "                valid:=false;\n",
    "                break;\n",
    "            else\n",
    "                m:=CliqueNumber(gr);\n",
    "                Add(allCliques,m);\n",
    "            fi;\n",
    "        od;\n",
    "        if not(valid) then\n",
    "            break;\n",
    "        else\n",
    "            everTrue:=true;\n",
    "            min:=Minimum(allCliques);\n",
    "            max:=Maximum(allCliques);\n",
    "            if min >maxMin[1] then\n",
    "                maxMin:=[min,max];\n",
    "            fi;\n",
    "            if max<minMax[2] then\n",
    "                minMax:=[min,max];\n",
    "            fi;\n",
    "        fi;\n",
    "    od;\n",
    "    if everTrue then\n",
    "        return [minMax,maxMin];\n",
    "    else return [];\n",
    "    fi;\n",
    "end;"
   ]
  },
  {
   "cell_type": "code",
   "execution_count": null,
   "metadata": {},
   "outputs": [
    {
     "name": "stdout",
     "output_type": "stream",
     "text": [
      "5, 3, [ 2, 2 ], [ 2, 2 ], D(2*5),\n",
      "7, 4, [ 2, 3 ], [ 2, 3 ], D(2*7),\n",
      "9, 3, [ 3, 3 ], [ 3, 3 ], 3^2:4,\n",
      "9, 3, [ 3, 3 ], [ 3, 3 ], 3^2:D(2*4),\n",
      "10, 3, [ 2, 4 ], [ 2, 4 ], A(5),\n",
      "10, 3, [ 2, 4 ], [ 2, 4 ], S(5),\n",
      "11, 6, [ 3, 3 ], [ 3, 3 ], D(2*11),\n",
      "13, 7, [ 3, 3 ], [ 3, 4 ], D(2*13),\n",
      "13, 4, [ 2, 4 ], [ 2, 4 ], 13:4,\n",
      "13, 3, [ 3, 3 ], [ 3, 3 ], 13:6,\n",
      "15, 3, [ 3, 5 ], [ 3, 5 ], A(6),\n",
      "15, 3, [ 3, 5 ], [ 3, 5 ], S(6),\n",
      "16, 4, [ 2, 5 ], [ 2, 5 ], 2^4:5,\n",
      "16, 4, [ 2, 5 ], [ 2, 5 ], 2^4:D(2*5),\n",
      "16, 3, [ 4, 4 ], [ 4, 4 ], (A(4) x A(4)):2,\n",
      "16, 3, [ 2, 5 ], [ 2, 5 ], (2^4:5).4,\n",
      "16, 3, [ 4, 4 ], [ 4, 4 ], 2^4.S(3) x S(3),\n",
      "16, 3, [ 4, 4 ], [ 4, 4 ], 2^4.3^2:4,\n",
      "16, 3, [ 4, 4 ], [ 4, 4 ], (S(4) x S(4)):2,\n",
      "16, 3, [ 2, 5 ], [ 2, 5 ], 2^4:S(5),\n",
      "16, 3, [ 2, 5 ], [ 2, 5 ], 2^4:A(5),\n",
      "17, 9, [ 3, 3 ], [ 4, 4 ], D(2*17),\n",
      "17, 5, [ 3, 3 ], [ 4, 4 ], 17:4,\n",
      "17, 3, [ 3, 3 ], [ 3, 3 ], 17:8,\n",
      "19, 10, [ 4, 4 ], [ 4, 4 ], D(2*19),\n",
      "19, 4, [ 3, 4 ], [ 3, 4 ], 19:6,\n",
      "21, 4, [ 3, 5 ], [ 3, 5 ], PGL(2, 7),\n",
      "21, 3, [ 3, 6 ], [ 3, 6 ], A(7),\n",
      "21, 3, [ 3, 6 ], [ 3, 6 ], S(7),\n",
      "23, 12, [ 4, 4 ], [ 4, 5 ], D(2*23),\n",
      "25, 5, [ 4, 4 ], [ 5, 5 ], 5^2:6,\n",
      "25, 4, [ 5, 5 ], [ 5, 5 ], 5^2:Q(8),\n",
      "25, 6, [ 5, 5 ], [ 5, 5 ], 5^2:D(2*4),\n",
      "25, 4, [ 5, 5 ], [ 5, 5 ], 5^2:8,\n",
      "25, 5, [ 4, 4 ], [ 5, 5 ], 5^2:D(2*6),\n",
      "25, 3, [ 5, 5 ], [ 5, 5 ], 5^2:Q(12),\n",
      "25, 3, [ 5, 5 ], [ 5, 5 ], 5^2:12,\n",
      "25, 3, [ 5, 5 ], [ 5, 5 ], 5^2:8:2,\n",
      "25, 4, [ 5, 5 ], [ 5, 5 ], 5^2:D(2*4):2,\n",
      "25, 3, [ 5, 5 ], [ 5, 5 ], 5^2:4 x D(2*3),\n",
      "25, 3, [ 5, 5 ], [ 5, 5 ], 5^2:O+(2, 5),\n",
      "25, 3, [ 5, 5 ], [ 5, 5 ], (A(5) x A(5)):2,\n",
      "25, 3, [ 5, 5 ], [ 5, 5 ], (A(5) x A(5)):2^2,\n",
      "25, 3, [ 5, 5 ], [ 5, 5 ], (A(5) x A(5)):4,\n",
      "25, 3, [ 5, 5 ], [ 5, 5 ], (S(5) x S(5)):2,\n",
      "27, 4, [ 4, 4 ], [ 4, 4 ], 3^3(A(4) x 2),\n",
      "27, 4, [ 4, 4 ], [ 4, 4 ], 3^3.2.A(4),\n",
      "27, 4, [ 4, 4 ], [ 4, 4 ], 3^3(S(4) x 2),\n",
      "27, 3, [ 3, 6 ], [ 3, 6 ], PSp(4, 3),\n",
      "27, 3, [ 3, 6 ], [ 3, 6 ], PSp(4, 3):2,\n",
      "28, 5, [ 4, 7 ], [ 4, 7 ], PGL(2, 7),\n",
      "28, 4, [ 3, 7 ], [ 3, 7 ], PSL(2, 8),\n",
      "28, 3, [ 4, 7 ], [ 4, 7 ], A(8),\n",
      "28, 3, [ 4, 7 ], [ 4, 7 ], S(8),\n"
     ]
    }
   ],
   "source": [
    "for y in [2..29] do\n",
    "    l:=NrPrimitiveGroups(y);\n",
    "    for x in [1..l] do \n",
    "        G := PrimitiveGroup(y, x);\n",
    "        H := Stabiliser(G, 1);\n",
    "        orbs := Orbits(H, MovedPoints(G));\n",
    "        if (Length(orbs)-1)<>1 and Length(GeneratorsOfGroup(G))<> 1 then #so G is not cyclic\n",
    "            data:=cliqueData(G);\n",
    "            if Length(data)<>0 then\n",
    "                Print(y,\", \",Length(orbs),\", \",data[1],\", \",data[2],\", \",G,\",\\n\");\n",
    "            fi;\n",
    "        fi;\n",
    "    od;\n",
    "od;"
   ]
  },
  {
   "cell_type": "code",
   "execution_count": null,
   "metadata": {},
   "outputs": [],
   "source": []
  }
 ],
 "metadata": {
  "kernelspec": {
   "display_name": "GAP 4",
   "language": "gap",
   "name": "gap-4"
  },
  "language_info": {
   "codemirror_mode": "gap",
   "file_extension": ".g",
   "mimetype": "text/x-gap",
   "name": "GAP 4",
   "nbconvert_exporter": "",
   "pygments_lexer": "gap",
   "version": "4.11.1"
  }
 },
 "nbformat": 4,
 "nbformat_minor": 2
}
