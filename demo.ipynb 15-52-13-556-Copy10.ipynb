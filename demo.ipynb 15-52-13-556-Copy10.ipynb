{
 "cells": [
  {
   "cell_type": "code",
   "execution_count": 1,
   "metadata": {},
   "outputs": [
    {
     "data": {
      "text/plain": [
       "true"
      ]
     },
     "execution_count": 1,
     "metadata": {
      "text/plain": ""
     },
     "output_type": "execute_result"
    }
   ],
   "source": [
    "LoadPackage(\"grape\");"
   ]
  },
  {
   "cell_type": "code",
   "execution_count": 2,
   "metadata": {},
   "outputs": [
    {
     "data": {
      "text/plain": [
       "function( G, i, j, bigSet ) ... end"
      ]
     },
     "execution_count": 2,
     "metadata": {
      "text/plain": ""
     },
     "output_type": "execute_result"
    }
   ],
   "source": [
    "#requires num (non-trivial) orbits to be known, as well as num colorings\n",
    "checkCliques:= function(G,i,j,bigSet)\n",
    "    local H, orbs, good_orb,success, J,J_i,o,gr;\n",
    "    H := Stabiliser(G, 1);\n",
    "    orbs := Orbits(H, MovedPoints(G));\n",
    "    \n",
    "    \n",
    "    for J in bigSet do #fixes one possible partitioning of (nontrivial) orbits\n",
    "        success:=true;\n",
    "        for J_i in J do #fixes specific orbits we'll look at to create graph\n",
    "            #Print(J_i,\"--\");\n",
    "            good_orb:=[];\n",
    "            if Length(J)<>1 then\n",
    "                for o in J_i do #unions the orbits that J_i requires\n",
    "                    good_orb:=Concatenation(good_orb,orbs[o]);\n",
    "                od;\n",
    "            else\n",
    "                good_orb:=J;\n",
    "            fi;\n",
    "            #Print(good_orb,\";;\");\n",
    "            gr := Graph(G, [1], OnPoints, function(x, y) return y in good_orb; end);\n",
    "            #Print(CliqueNumber(gr),\",,\");\n",
    "            if not(IsSimpleGraph(gr)) or CliqueNumber(gr)>=i or CliqueNumber( gr )>=j then\n",
    "                success:=false;\n",
    "                break; #so graph is bad, contains a K_i or K_j\n",
    "            fi;\n",
    "        od;\n",
    "        if success then\n",
    "            #Print(CliqueNumber(gr));\n",
    "            return true;\n",
    "        fi;\n",
    "        #Print(\".\");\n",
    "    od;\n",
    "    return false;\n",
    "end;"
   ]
  },
  {
   "cell_type": "code",
   "execution_count": 6,
   "metadata": {},
   "outputs": [
    {
     "name": "stdout",
     "output_type": "stream",
     "text": [
      "(hurrah!: G=D(2*5) K_i=3 K_j=3)\n",
      "(hurrah!: G=D(2*5) K_i=3 K_j=4)\n",
      "(hurrah!: G=D(2*5) K_i=3 K_j=5)\n",
      "(hurrah!: G=D(2*5) K_i=4 K_j=3)\n",
      "(hurrah!: G=D(2*5) K_i=4 K_j=4)\n",
      "(hurrah!: G=D(2*5) K_i=4 K_j=5)\n",
      "(hurrah!: G=D(2*5) K_i=5 K_j=3)\n",
      "(hurrah!: G=D(2*5) K_i=5 K_j=4)\n",
      "(hurrah!: G=D(2*5) K_i=5 K_j=5)\n",
      "D(2*5),7:3,(hurrah!: G=3^2:4 K_i=4 K_j=4)\n",
      "(hurrah!: G=3^2:4 K_i=4 K_j=5)\n",
      "(hurrah!: G=3^2:4 K_i=4 K_j=6)\n",
      "(hurrah!: G=3^2:4 K_i=4 K_j=7)\n",
      "(hurrah!: G=3^2:4 K_i=4 K_j=8)\n",
      "(hurrah!: G=3^2:4 K_i=4 K_j=9)\n",
      "(hurrah!: G=3^2:4 K_i=5 K_j=4)\n",
      "(hurrah!: G=3^2:4 K_i=5 K_j=5)\n",
      "(hurrah!: G=3^2:4 K_i=5 K_j=6)\n",
      "(hurrah!: G=3^2:4 K_i=5 K_j=7)\n",
      "(hurrah!: G=3^2:4 K_i=5 K_j=8)\n",
      "(hurrah!: G=3^2:4 K_i=5 K_j=9)\n",
      "(hurrah!: G=3^2:4 K_i=6 K_j=4)\n",
      "(hurrah!: G=3^2:4 K_i=6 K_j=5)\n",
      "(hurrah!: G=3^2:4 K_i=6 K_j=6)\n",
      "(hurrah!: G=3^2:4 K_i=6 K_j=7)\n",
      "(hurrah!: G=3^2:4 K_i=6 K_j=8)\n",
      "(hurrah!: G=3^2:4 K_i=6 K_j=9)\n",
      "(hurrah!: G=3^2:4 K_i=7 K_j=4)\n",
      "(hurrah!: G=3^2:4 K_i=7 K_j=5)\n",
      "(hurrah!: G=3^2:4 K_i=7 K_j=6)\n",
      "(hurrah!: G=3^2:4 K_i=7 K_j=7)\n",
      "(hurrah!: G=3^2:4 K_i=7 K_j=8)\n",
      "(hurrah!: G=3^2:4 K_i=7 K_j=9)\n",
      "(hurrah!: G=3^2:4 K_i=8 K_j=4)\n",
      "(hurrah!: G=3^2:4 K_i=8 K_j=5)\n",
      "(hurrah!: G=3^2:4 K_i=8 K_j=6)\n",
      "(hurrah!: G=3^2:4 K_i=8 K_j=7)\n",
      "(hurrah!: G=3^2:4 K_i=8 K_j=8)\n",
      "(hurrah!: G=3^2:4 K_i=8 K_j=9)\n",
      "(hurrah!: G=3^2:4 K_i=9 K_j=4)\n",
      "(hurrah!: G=3^2:4 K_i=9 K_j=5)\n",
      "(hurrah!: G=3^2:4 K_i=9 K_j=6)\n",
      "(hurrah!: G=3^2:4 K_i=9 K_j=7)\n",
      "(hurrah!: G=3^2:4 K_i=9 K_j=8)\n",
      "(hurrah!: G=3^2:4 K_i=9 K_j=9)\n",
      "3^2:4,(hurrah!: G=3^2:D(2*4) K_i=4 K_j=4)\n",
      "(hurrah!: G=3^2:D(2*4) K_i=4 K_j=5)\n",
      "(hurrah!: G=3^2:D(2*4) K_i=4 K_j=6)\n",
      "(hurrah!: G=3^2:D(2*4) K_i=4 K_j=7)\n",
      "(hurrah!: G=3^2:D(2*4) K_i=4 K_j=8)\n",
      "(hurrah!: G=3^2:D(2*4) K_i=4 K_j=9)\n",
      "(hurrah!: G=3^2:D(2*4) K_i=5 K_j=4)\n",
      "(hurrah!: G=3^2:D(2*4) K_i=5 K_j=5)\n",
      "(hurrah!: G=3^2:D(2*4) K_i=5 K_j=6)\n",
      "(hurrah!: G=3^2:D(2*4) K_i=5 K_j=7)\n",
      "(hurrah!: G=3^2:D(2*4) K_i=5 K_j=8)\n",
      "(hurrah!: G=3^2:D(2*4) K_i=5 K_j=9)\n",
      "(hurrah!: G=3^2:D(2*4) K_i=6 K_j=4)\n",
      "(hurrah!: G=3^2:D(2*4) K_i=6 K_j=5)\n",
      "(hurrah!: G=3^2:D(2*4) K_i=6 K_j=6)\n",
      "(hurrah!: G=3^2:D(2*4) K_i=6 K_j=7)\n",
      "(hurrah!: G=3^2:D(2*4) K_i=6 K_j=8)\n",
      "(hurrah!: G=3^2:D(2*4) K_i=6 K_j=9)\n",
      "(hurrah!: G=3^2:D(2*4) K_i=7 K_j=4)\n",
      "(hurrah!: G=3^2:D(2*4) K_i=7 K_j=5)\n",
      "(hurrah!: G=3^2:D(2*4) K_i=7 K_j=6)\n",
      "(hurrah!: G=3^2:D(2*4) K_i=7 K_j=7)\n",
      "(hurrah!: G=3^2:D(2*4) K_i=7 K_j=8)\n",
      "(hurrah!: G=3^2:D(2*4) K_i=7 K_j=9)\n",
      "(hurrah!: G=3^2:D(2*4) K_i=8 K_j=4)\n",
      "(hurrah!: G=3^2:D(2*4) K_i=8 K_j=5)\n",
      "(hurrah!: G=3^2:D(2*4) K_i=8 K_j=6)\n",
      "(hurrah!: G=3^2:D(2*4) K_i=8 K_j=7)\n",
      "(hurrah!: G=3^2:D(2*4) K_i=8 K_j=8)\n",
      "(hurrah!: G=3^2:D(2*4) K_i=8 K_j=9)\n",
      "(hurrah!: G=3^2:D(2*4) K_i=9 K_j=4)\n",
      "(hurrah!: G=3^2:D(2*4) K_i=9 K_j=5)\n",
      "(hurrah!: G=3^2:D(2*4) K_i=9 K_j=6)\n",
      "(hurrah!: G=3^2:D(2*4) K_i=9 K_j=7)\n",
      "(hurrah!: G=3^2:D(2*4) K_i=9 K_j=8)\n",
      "(hurrah!: G=3^2:D(2*4) K_i=9 K_j=9)\n",
      "3^2:D(2*4),(hurrah!: G=A(5) K_i=5 K_j=5)\n",
      "(hurrah!: G=A(5) K_i=5 K_j=6)\n",
      "(hurrah!: G=A(5) K_i=5 K_j=7)\n",
      "(hurrah!: G=A(5) K_i=5 K_j=8)\n",
      "(hurrah!: G=A(5) K_i=5 K_j=9)\n",
      "(hurrah!: G=A(5) K_i=5 K_j=10)\n",
      "(hurrah!: G=A(5) K_i=6 K_j=5)\n",
      "(hurrah!: G=A(5) K_i=6 K_j=6)\n",
      "(hurrah!: G=A(5) K_i=6 K_j=7)\n",
      "(hurrah!: G=A(5) K_i=6 K_j=8)\n",
      "(hurrah!: G=A(5) K_i=6 K_j=9)\n",
      "(hurrah!: G=A(5) K_i=6 K_j=10)\n",
      "(hurrah!: G=A(5) K_i=7 K_j=5)\n",
      "(hurrah!: G=A(5) K_i=7 K_j=6)\n",
      "(hurrah!: G=A(5) K_i=7 K_j=7)\n",
      "(hurrah!: G=A(5) K_i=7 K_j=8)\n",
      "(hurrah!: G=A(5) K_i=7 K_j=9)\n",
      "(hurrah!: G=A(5) K_i=7 K_j=10)\n",
      "(hurrah!: G=A(5) K_i=8 K_j=5)\n",
      "(hurrah!: G=A(5) K_i=8 K_j=6)\n",
      "(hurrah!: G=A(5) K_i=8 K_j=7)\n",
      "(hurrah!: G=A(5) K_i=8 K_j=8)\n",
      "(hurrah!: G=A(5) K_i=8 K_j=9)\n",
      "(hurrah!: G=A(5) K_i=8 K_j=10)\n",
      "(hurrah!: G=A(5) K_i=9 K_j=5)\n",
      "(hurrah!: G=A(5) K_i=9 K_j=6)\n",
      "(hurrah!: G=A(5) K_i=9 K_j=7)\n",
      "(hurrah!: G=A(5) K_i=9 K_j=8)\n",
      "(hurrah!: G=A(5) K_i=9 K_j=9)\n",
      "(hurrah!: G=A(5) K_i=9 K_j=10)\n",
      "(hurrah!: G=A(5) K_i=10 K_j=5)\n",
      "(hurrah!: G=A(5) K_i=10 K_j=6)\n",
      "(hurrah!: G=A(5) K_i=10 K_j=7)\n",
      "(hurrah!: G=A(5) K_i=10 K_j=8)\n",
      "(hurrah!: G=A(5) K_i=10 K_j=9)\n",
      "(hurrah!: G=A(5) K_i=10 K_j=10)\n",
      "A(5),(hurrah!: G=S(5) K_i=5 K_j=5)\n",
      "(hurrah!: G=S(5) K_i=5 K_j=6)\n",
      "(hurrah!: G=S(5) K_i=5 K_j=7)\n",
      "(hurrah!: G=S(5) K_i=5 K_j=8)\n",
      "(hurrah!: G=S(5) K_i=5 K_j=9)\n",
      "(hurrah!: G=S(5) K_i=5 K_j=10)\n",
      "(hurrah!: G=S(5) K_i=6 K_j=5)\n",
      "(hurrah!: G=S(5) K_i=6 K_j=6)\n",
      "(hurrah!: G=S(5) K_i=6 K_j=7)\n",
      "(hurrah!: G=S(5) K_i=6 K_j=8)\n",
      "(hurrah!: G=S(5) K_i=6 K_j=9)\n",
      "(hurrah!: G=S(5) K_i=6 K_j=10)\n",
      "(hurrah!: G=S(5) K_i=7 K_j=5)\n",
      "(hurrah!: G=S(5) K_i=7 K_j=6)\n",
      "(hurrah!: G=S(5) K_i=7 K_j=7)\n",
      "(hurrah!: G=S(5) K_i=7 K_j=8)\n",
      "(hurrah!: G=S(5) K_i=7 K_j=9)\n",
      "(hurrah!: G=S(5) K_i=7 K_j=10)\n",
      "(hurrah!: G=S(5) K_i=8 K_j=5)\n",
      "(hurrah!: G=S(5) K_i=8 K_j=6)\n",
      "(hurrah!: G=S(5) K_i=8 K_j=7)\n",
      "(hurrah!: G=S(5) K_i=8 K_j=8)\n",
      "(hurrah!: G=S(5) K_i=8 K_j=9)\n",
      "(hurrah!: G=S(5) K_i=8 K_j=10)\n",
      "(hurrah!: G=S(5) K_i=9 K_j=5)\n",
      "(hurrah!: G=S(5) K_i=9 K_j=6)\n",
      "(hurrah!: G=S(5) K_i=9 K_j=7)\n",
      "(hurrah!: G=S(5) K_i=9 K_j=8)\n",
      "(hurrah!: G=S(5) K_i=9 K_j=9)\n",
      "(hurrah!: G=S(5) K_i=9 K_j=10)\n",
      "(hurrah!: G=S(5) K_i=10 K_j=5)\n",
      "(hurrah!: G=S(5) K_i=10 K_j=6)\n",
      "(hurrah!: G=S(5) K_i=10 K_j=7)\n",
      "(hurrah!: G=S(5) K_i=10 K_j=8)\n",
      "(hurrah!: G=S(5) K_i=10 K_j=9)\n",
      "(hurrah!: G=S(5) K_i=10 K_j=10)\n",
      "S(5),"
     ]
    },
    {
     "data": {
      "text/plain": [
       "[ [ [ 2 ], [ 3 ] ] ]"
      ]
     },
     "execution_count": 5,
     "metadata": {
      "text/plain": ""
     },
     "output_type": "execute_result"
    }
   ],
   "source": [
    "BigSet:=[[[2], [3]]];\n",
    "for z in [4..10] do\n",
    "    l:=NrPrimitiveGroups(z);\n",
    "    for x in [1..l] do \n",
    "        G := PrimitiveGroup(z, x);\n",
    "        H := Stabiliser(G, 1);\n",
    "        orbs := Orbits(H, MovedPoints(G));\n",
    "        if (Length(orbs))=3 and Length(GeneratorsOfGroup(G))<> 1 then #so G is not cyclic\n",
    "            for i in [3..z] do\n",
    "                for j in [3..z] do\n",
    "                    #Print(i,\" \",j,\"; \");\n",
    "                    if(checkCliques(G, i,j, BigSet)) then \n",
    "                        Print(\"(hurrah!: G=\",G,\" K_i=\",i,\" K_j=\",j,\")\\n\");\n",
    "                    fi;\n",
    "                od;\n",
    "            od;\n",
    "            Print(G,\",\");\n",
    "        fi;\n",
    "    od;\n",
    "od;"
   ]
  },
  {
   "cell_type": "code",
   "execution_count": 3,
   "metadata": {},
   "outputs": [
    {
     "name": "stdout",
     "output_type": "stream",
     "text": [
      "[ 1, 2 ][ 3 ][ 4 ]\n",
      "[ 1 ][ 2, 3 ][ 4 ]\n",
      "[ 1, 3 ][ 2 ][ 4 ]\n",
      "[ 1 ][ 2 ][ 3, 4 ]\n",
      "[ 1 ][ 2, 4 ][ 3 ]\n",
      "[ 1, 4 ][ 2 ][ 3 ]\n"
     ]
    },
    {
     "data": {
      "text/plain": [
       "[ [ [ 1, 2 ], [ 3 ], [ 4 ] ], [ [ 1 ], [ 2, 3 ], [ 4 ] ], [ [ 1, 3 ], [ 2 ], [ 4 ] ], [ [ 1 ], [ 2 ], [ 3, 4 ] ], [ [ 1 ], [ 2, 4 ], [ 3 ] ], [ [ 1, 4 ], [ 2 ], [ 3 ] ] ]"
      ]
     },
     "execution_count": 2,
     "metadata": {
      "text/plain": ""
     },
     "output_type": "execute_result"
    }
   ],
   "source": [
    "bigSet:=[[[1, 2], [3], [4]], [[1], [2, 3], [4]], [[1, 3], [2], [4]], [[1], [2], [3, 4]], [[1], [2, 4], [3]], [[1, 4], [2], [3]]];\n",
    "for x in bigSet do\n",
    "    for y in x do\n",
    "        Print(y);\n",
    "    od;\n",
    "    Print(\"\\n\");\n",
    "od;"
   ]
  },
  {
   "cell_type": "code",
   "execution_count": 1,
   "metadata": {},
   "outputs": [
    {
     "name": "stdout",
     "output_type": "stream",
     "text": [
      "Num degree 5 D(2*5) 2\n",
      "Num degree 7 D(2*7) 3\n",
      "Num degree 7 7:3 2\n",
      "Num degree 9 3^2:4 2\n",
      "Num degree 9 3^2:D(2*4) 2\n",
      "Num degree 10 A(5) 2\n",
      "Num degree 10 S(5) 2\n",
      "Num degree 11 D(2*11) 5\n",
      "Num degree 11 11:5 2\n",
      "Num degree 13 D(2*13) 6\n",
      "Num degree 13 13:3 4\n",
      "Num degree 13 13:4 3\n",
      "Num degree 13 13:6 2\n",
      "Num degree 15 A(6) 2\n",
      "Num degree 15 S(6) 2\n",
      "Num degree 16 2^4:5 3\n",
      "Num degree 16 2^4:D(2*5) 3\n",
      "Num degree 16 (A(4) x A(4)):2 2\n",
      "Num degree 16 (2^4:5).4 2\n",
      "Num degree 16 2^4.S(3) x S(3) 2\n",
      "Num degree 16 2^4.3^2:4 2\n",
      "Num degree 16 (S(4) x S(4)):2 2\n",
      "Num degree 16 2^4:S(5) 2\n",
      "Num degree 16 2^4:A(5) 2\n",
      "Num degree 17 D(2*17) 8\n",
      "Num degree 17 17:4 4\n",
      "Num degree 17 17:8 2\n",
      "Num degree 19 D(2*19) 9\n",
      "Num degree 19 19:3 6\n",
      "Num degree 19 19:6 3\n",
      "Num degree 19 19:9 2\n",
      "Num degree 21 PGL(2, 7) 3\n",
      "Num degree 21 A(7) 2\n",
      "Num degree 21 S(7) 2\n",
      "Num degree 23 D(2*23) 11\n",
      "Num degree 23 23:11 2\n",
      "Num degree 25 5^2:3 8\n",
      "Num degree 25 5^2:S(3) 6\n",
      "Num degree 25 5^2:6 4\n",
      "Num degree 25 5^2:Q(8) 3\n",
      "Num degree 25 5^2:D(2*4) 5\n",
      "Num degree 25 5^2:8 3\n",
      "Num degree 25 5^2:D(2*6) 4\n",
      "Num degree 25 5^2:Q(12) 2\n",
      "Num degree 25 5^2:12 2\n",
      "Num degree 25 5^2:8:2 2\n",
      "Num degree 25 5^2:D(2*4):2 3\n",
      "Num degree 25 5^2:4 x D(2*3) 2\n",
      "Num degree 25 5^2:O+(2, 5) 2\n",
      "Num degree 25 (A(5) x A(5)):2 2\n",
      "Num degree 25 (A(5) x A(5)):2^2 2\n",
      "Num degree 25 (A(5) x A(5)):4 2\n",
      "Num degree 25 (S(5) x S(5)):2 2\n",
      "Num degree 27 3^3.A(4) 4\n",
      "Num degree 27 3^3:13 2\n",
      "Num degree 27 3^3(A(4) x 2) 3\n",
      "Num degree 27 3^3.2.A(4) 3\n",
      "Num degree 27 3^3.S(4) 4\n",
      "Num degree 27 3^3.13.3 2\n",
      "Num degree 27 3^3(S(4) x 2) 3\n",
      "Num degree 27 PSp(4, 3) 2\n",
      "Num degree 27 PSp(4, 3):2 2\n",
      "Num degree 28 PGL(2, 7) 4\n",
      "Num degree 28 PSL(2, 8) 3\n",
      "Num degree 28 A(8) 2\n",
      "Num degree 28 S(8) 2\n",
      "Num degree 29 D(2*29) 14\n",
      "Num degree 29 29:4 7\n",
      "Num degree 29 29:7 4\n",
      "Num degree 29 29:14 2\n",
      "Num degree 31 D(2*31) 15\n",
      "Num degree 31 31:3 10\n",
      "Num degree 31 31:5 6\n",
      "Num degree 31 31:6 5\n",
      "Num degree 31 31:10 3\n",
      "Num degree 31 31:15 2\n",
      "Num degree 35 A(8) 2\n",
      "Num degree 35 S(8) 2\n",
      "Num degree 35 A(7) 3\n",
      "Num degree 35 S(7) 3\n",
      "Num degree 36 PSL(2, 8) 4\n",
      "Num degree 36 PGammaL(2, 8) 2\n",
      "Num degree 36 M(10) 3\n",
      "Num degree 36 PGL(2, 9) 4\n",
      "Num degree 36 PGammaL(2, 9) 3\n",
      "Num degree 36 PSU(3, 3) 3\n",
      "Num degree 36 PGammaU(3, 3) 2\n",
      "Num degree 36 PSp(4, 3) 2\n",
      "Num degree 36 PSp(4, 3):2 2\n",
      "Num degree 36 A(9) 2\n",
      "Num degree 36 S(9) 2\n",
      "Num degree 36 (A(6) x A(6)):2 2\n",
      "Num degree 36 (A(6) x A(6)):2^2 2\n",
      "Num degree 36 (A(6) x A(6)):4 2\n",
      "Num degree 36 (S(6) x S(6)):2 2\n",
      "Num degree 36 (A(5) x A(5)):2 2\n",
      "Num degree 36 (A(5) x A(5)).4 2\n",
      "Num degree 36 ((A(5) x A(5)):2)2 2\n",
      "Num degree 36 (S(5) x S(5)):2 2\n",
      "Num degree 37 D(2*37) 18\n",
      "Num degree 37 37:3 12\n",
      "Num degree 37 37:4 9\n",
      "Num degree 37 37:6 6\n",
      "Num degree 37 37:9 4\n",
      "Num degree 37 37:12 3\n",
      "Num degree 37 37:18 2\n",
      "Num degree 40 PSp(4, 3) 2\n",
      "Num degree 40 PSp(4, 3):2 2\n",
      "Num degree 40 PSp(4, 3) 2\n",
      "Num degree 40 PSp(4, 3):2 2\n",
      "Num degree 41 D(2*41) 20\n",
      "Num degree 41 41:4 10\n",
      "Num degree 41 41:5 8\n",
      "Num degree 41 41:8 5\n",
      "Num degree 41 41:10 4\n",
      "Num degree 41 41:20 2\n",
      "Num degree 43 D(2*43) 21\n",
      "Num degree 43 43:3 14\n",
      "Num degree 43 43:6 7\n",
      "Num degree 43 43:7 6\n",
      "Num degree 43 43:14 3\n",
      "Num degree 43 43:21 2\n",
      "Num degree 45 PGL(2, 9) 5\n",
      "Num degree 45 M(10) 4\n",
      "Num degree 45 PGammaL(2, 9) 4\n",
      "Num degree 45 PSp(4, 3) 2\n",
      "Num degree 45 PSp(4, 3):2 2\n",
      "Num degree 45 A(10) 2\n",
      "Num degree 45 S(10) 2\n",
      "Num degree 47 D(2*47) 23\n",
      "Num degree 47 47:23 2\n",
      "Num degree 49 7^2:4 12\n",
      "Num degree 49 7^2:S(3) 11\n",
      "Num degree 49 7^2:D(2*4) 9\n",
      "Num degree 49 7^2:Q(8) 6\n",
      "Num degree 49 7^2:8 6\n",
      "Num degree 49 7^2:Q(12) 4\n",
      "Num degree 49 7^2:D(2*6) 7\n",
      "Num degree 49 7^2:12 4\n",
      "Num degree 49 7^2:D(2*8) 6\n",
      "Num degree 49 7^2:16 3\n",
      "Num degree 49 7^2:Q(16) 3\n",
      "Num degree 49 7^2:3 x D(2*3) 5\n",
      "Num degree 49 7^2:3:D(2*4) 4\n",
      "Num degree 49 7^2:3 x D(2*4) 3\n",
      "Num degree 49 7^2:24 2\n",
      "Num degree 49 7^2:3 x Q(8) 2\n",
      "Num degree 49 7^2:Q(8):3 4\n",
      "Num degree 49 7^2:Q(8):3 2\n",
      "Num degree 49 7^2:Q(16):2 3\n",
      "Num degree 49 7^2:3 x Q(12) 2\n",
      "Num degree 49 7^2:3 x D(2*6) 3\n",
      "Num degree 49 7^2:3 x D(2*8) 2\n",
      "Num degree 49 (AGL(1, 7) x AGL(1, 7)):2 2\n",
      "Num degree 49 7^2:3 x (Q(8):3) 2\n",
      "Num degree 49 (PSL(3, 2) x PSL(3, 2)):2 2\n",
      "Num degree 49 (A(7) x A(7)):2 2\n",
      "Num degree 49 (A(7) x A(7)):2^2 2\n",
      "Num degree 49 (A(7) x A(7)):4 2\n",
      "Num degree 49 (S(7) x S(7)):2 2\n",
      "Num degree 50 PSU(3, 5) 2\n",
      "Num degree 50 PSU(3, 5):2 2\n"
     ]
    }
   ],
   "source": [
    "for y in [2..50] do\n",
    "    l:=NrPrimitiveGroups(y);\n",
    "    for x in [1..l] do \n",
    "        G := PrimitiveGroup(y, x);\n",
    "        H := Stabiliser(G, 1);\n",
    "        orbs := Orbits(H, MovedPoints(G));\n",
    "        if (Length(orbs)-1)<>1 and Length(GeneratorsOfGroup(G))<> 1 then #so G is not cyclic\n",
    "            Print(\"Num degree \",y,\" \",G,\" \",Length(orbs)-1,\"\\n\");\n",
    "        fi;\n",
    "    od;\n",
    "od;"
   ]
  },
  {
   "cell_type": "code",
   "execution_count": 39,
   "metadata": {},
   "outputs": [
    {
     "name": "stdout",
     "output_type": "stream",
     "text": [
      "2"
     ]
    },
    {
     "data": {
      "text/plain": [
       "6"
      ]
     },
     "execution_count": 36,
     "metadata": {
      "text/plain": ""
     },
     "output_type": "execute_result"
    },
    {
     "data": {
      "text/plain": [
       "[ 1 ]"
      ]
     },
     "execution_count": 37,
     "metadata": {
      "text/plain": ""
     },
     "output_type": "execute_result"
    }
   ],
   "source": [
    "min:=6;\n",
    "good_orb;\n",
    "for x in [1..5] do\n",
    "    #local G, H, orbs, good_orb, gr,z;\n",
    "    G := PrimitiveGroup(5, x);\n",
    "    H := Stabiliser(G, 1);\n",
    "    orbs := Orbits(H, MovedPoints(G));\n",
    "    #Print(Length(orbs),\"\\n\");\n",
    "    for p in [1..(Length(orbs)-1)] do\n",
    "        good_orb := orbs[p];\n",
    "        gr := Graph(G, [1], OnPoints, function(x, y) return y in good_orb; end);\n",
    "        if IsSimpleGraph(gr) then\n",
    "            z:=CliqueNumber( gr );\n",
    "            if z<min and z<>1 then\n",
    "                min:=z;\n",
    "            fi;\n",
    "        fi;\n",
    "    od;\n",
    "od;\n",
    "Print(min);"
   ]
  },
  {
   "cell_type": "code",
   "execution_count": 5,
   "metadata": {},
   "outputs": [
    {
     "data": {
      "text/plain": [
       "D(2*5)"
      ]
     },
     "execution_count": 5,
     "metadata": {
      "text/plain": ""
     },
     "output_type": "execute_result"
    }
   ],
   "source": [
    "G := PrimitiveGroup(5, 2);"
   ]
  },
  {
   "cell_type": "code",
   "execution_count": 6,
   "metadata": {},
   "outputs": [
    {
     "data": {
      "text/plain": [
       "2"
      ]
     },
     "execution_count": 6,
     "metadata": {
      "text/plain": ""
     },
     "output_type": "execute_result"
    }
   ],
   "source": [
    "Length(GeneratorsOfGroup(G));"
   ]
  },
  {
   "cell_type": "code",
   "execution_count": 7,
   "metadata": {},
   "outputs": [
    {
     "data": {
      "text/plain": [
       "[ (2,4)(3,5), (1,2,3,5,4) ]"
      ]
     },
     "execution_count": 7,
     "metadata": {
      "text/plain": ""
     },
     "output_type": "execute_result"
    }
   ],
   "source": [
    "GeneratorsOfGroup(G);"
   ]
  },
  {
   "cell_type": "code",
   "execution_count": 8,
   "metadata": {},
   "outputs": [
    {
     "data": {
      "text/plain": [
       "Group([ (2,4)(3,5) ])"
      ]
     },
     "execution_count": 8,
     "metadata": {
      "text/plain": ""
     },
     "output_type": "execute_result"
    }
   ],
   "source": [
    "H := Stabiliser(G, 1);"
   ]
  },
  {
   "cell_type": "code",
   "execution_count": 9,
   "metadata": {},
   "outputs": [
    {
     "data": {
      "text/plain": [
       "[ [ 1 ], [ 2, 4 ], [ 3, 5 ] ]"
      ]
     },
     "execution_count": 9,
     "metadata": {
      "text/plain": ""
     },
     "output_type": "execute_result"
    }
   ],
   "source": [
    "orbs := Orbits(H, MovedPoints(G));"
   ]
  },
  {
   "cell_type": "code",
   "execution_count": 10,
   "metadata": {},
   "outputs": [
    {
     "data": {
      "text/plain": [
       "3"
      ]
     },
     "execution_count": 10,
     "metadata": {
      "text/plain": ""
     },
     "output_type": "execute_result"
    }
   ],
   "source": [
    "Length(orbs);"
   ]
  },
  {
   "cell_type": "code",
   "execution_count": 17,
   "metadata": {},
   "outputs": [
    {
     "data": {
      "text/plain": [
       "[ 3, 5 ]"
      ]
     },
     "execution_count": 17,
     "metadata": {
      "text/plain": ""
     },
     "output_type": "execute_result"
    }
   ],
   "source": [
    "good_orb := orbs[3];"
   ]
  },
  {
   "cell_type": "code",
   "execution_count": 18,
   "metadata": {},
   "outputs": [
    {
     "data": {
      "text/plain": [
       "rec( adjacencies := [ [ 4, 5 ] ], group := Group( [ (1,2,4,5,3), (2,3)(4,5) ] ), isGraph := true, names := [ 1, 2, 4, 3, 5 ], order := 5, representatives := [ 1 ], schreierVector := [ -1, 1, 2, 1, 1 ] )"
      ]
     },
     "execution_count": 18,
     "metadata": {},
     "output_type": "execute_result"
    }
   ],
   "source": [
    "gr := Graph(G, [1], OnPoints, function(x, y) return y in good_orb; end);"
   ]
  },
  {
   "cell_type": "code",
   "execution_count": 19,
   "metadata": {},
   "outputs": [
    {
     "data": {
      "text/plain": [
       "true"
      ]
     },
     "execution_count": 19,
     "metadata": {
      "text/plain": ""
     },
     "output_type": "execute_result"
    }
   ],
   "source": [
    "IsSimpleGraph(gr);"
   ]
  },
  {
   "cell_type": "code",
   "execution_count": 20,
   "metadata": {},
   "outputs": [
    {
     "data": {
      "text/plain": [
       "2"
      ]
     },
     "execution_count": 20,
     "metadata": {
      "text/plain": ""
     },
     "output_type": "execute_result"
    }
   ],
   "source": [
    "CliqueNumber( gr );"
   ]
  },
  {
   "cell_type": "code",
   "execution_count": 16,
   "metadata": {},
   "outputs": [
    {
     "data": {
      "text/plain": [
       "[ [ 1, 2 ], [ 1, 3 ], [ 2, 4 ], [ 3, 5 ], [ 4, 5 ] ]"
      ]
     },
     "execution_count": 16,
     "metadata": {
      "text/plain": ""
     },
     "output_type": "execute_result"
    }
   ],
   "source": [
    "UndirectedEdges(gr);"
   ]
  },
  {
   "cell_type": "code",
   "execution_count": 17,
   "metadata": {},
   "outputs": [
    {
     "name": "stdout",
     "output_type": "stream",
     "text": [
      "[ 1 ] [ 2 ] [ 3 ] [ 4 ] [ 5 ] "
     ]
    }
   ],
   "source": [
    "for x in [1,2,3,4,5] do\n",
    "    Print(Adjacency(gr,x),\" \");\n",
    "od;"
   ]
  },
  {
   "cell_type": "code",
   "execution_count": 3,
   "metadata": {},
   "outputs": [
    {
     "data": {
      "text/plain": [
       "function( g, s, max, property ) ... end"
      ]
     },
     "execution_count": 3,
     "metadata": {
      "text/plain": ""
     },
     "output_type": "execute_result"
    }
   ],
   "source": [
    "OrbitRepsOnPutativeTuples := function(g,s,max,property)\n",
    "    local tuplefinder, tuples;\n",
    "    tuples:=[];\n",
    "    tuplefinder:=function(g,s,max)\n",
    "        local stab,sx,ssx,orb,orbs,rest,x;\n",
    "        if(Length(s)=max) then\n",
    "            Print(s,\"\\n\");\n",
    "            Add(tuples,s);\n",
    "            return;\n",
    "        fi;\n",
    "        if IsEmpty(s) then stab:=g;\n",
    "        else stab:= Stabilizer(g,s,OnSets);\n",
    "        fi;\n",
    "        orbs:=Orbits(stab,[1..DegreeAction(g)]);\n",
    "        for orb in orbs do\n",
    "            x:=Minimum(orb);\n",
    "            if (IsEmpty(s) or x>Maximum(s)) and property(Concatenation(s,[x])) then\n",
    "                sx :=Union(s,[x]);\n",
    "                ssx :=SmallestImageSet(g,sx);\n",
    "                if ssx=sx then\n",
    "                    tuplefinder(g,sx,max);\n",
    "                fi;\n",
    "            fi;\n",
    "        od;\n",
    "    end;\n",
    "    tuplefinder(g,s,max);\n",
    "    return tuples;\n",
    "end;"
   ]
  },
  {
   "cell_type": "code",
   "execution_count": null,
   "metadata": {},
   "outputs": [],
   "source": [
    "NrPrimitiveGroups(5);"
   ]
  },
  {
   "cell_type": "code",
   "execution_count": 12,
   "metadata": {},
   "outputs": [
    {
     "name": "stdout",
     "output_type": "stream",
     "text": [
      "C(5) D(2*5) AGL(1, 5) A(5) S(5) "
     ]
    }
   ],
   "source": [
    "for x in [1,2,3,4,5] do\n",
    "    Print(PrimitiveGroup(5,x),\" \");\n",
    "od;"
   ]
  },
  {
   "cell_type": "code",
   "execution_count": null,
   "metadata": {},
   "outputs": [],
   "source": [
    "OrbitRepsOnPutativeTuples(G,[],2,IsCompleteGraph)"
   ]
  },
  {
   "cell_type": "code",
   "execution_count": null,
   "metadata": {},
   "outputs": [],
   "source": []
  }
 ],
 "metadata": {
  "kernelspec": {
   "display_name": "GAP 4",
   "language": "gap",
   "name": "gap-4"
  },
  "language_info": {
   "codemirror_mode": "gap",
   "file_extension": ".g",
   "mimetype": "text/x-gap",
   "name": "GAP 4",
   "nbconvert_exporter": "",
   "pygments_lexer": "gap",
   "version": "4.11.1"
  }
 },
 "nbformat": 4,
 "nbformat_minor": 2
}
