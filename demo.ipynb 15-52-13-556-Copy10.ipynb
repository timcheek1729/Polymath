{
 "cells": [
  {
   "cell_type": "code",
   "execution_count": 1,
   "metadata": {},
   "outputs": [
    {
     "data": {
      "text/plain": [
       "true"
      ]
     },
     "execution_count": 1,
     "metadata": {
      "text/plain": ""
     },
     "output_type": "execute_result"
    }
   ],
   "source": [
    "LoadPackage(\"grape\");"
   ]
  },
  {
   "cell_type": "code",
   "execution_count": 39,
   "metadata": {},
   "outputs": [
    {
     "name": "stdout",
     "output_type": "stream",
     "text": [
      "2"
     ]
    },
    {
     "data": {
      "text/plain": [
       "6"
      ]
     },
     "execution_count": 36,
     "metadata": {
      "text/plain": ""
     },
     "output_type": "execute_result"
    },
    {
     "data": {
      "text/plain": [
       "[ 1 ]"
      ]
     },
     "execution_count": 37,
     "metadata": {
      "text/plain": ""
     },
     "output_type": "execute_result"
    }
   ],
   "source": [
    "min:=6;\n",
    "good_orb;\n",
    "for x in [1..5] do\n",
    "    #local G, H, orbs, good_orb, gr,z;\n",
    "    G := PrimitiveGroup(5, x);\n",
    "    H := Stabiliser(G, 1);\n",
    "    orbs := Orbits(H, MovedPoints(G));\n",
    "    #Print(Length(orbs),\"\\n\");\n",
    "    for p in [1..(Length(orbs)-1)] do\n",
    "        good_orb := orbs[p];\n",
    "        gr := Graph(G, [1], OnPoints, function(x, y) return y in good_orb; end);\n",
    "        if IsSimpleGraph(gr) then\n",
    "            z:=CliqueNumber( gr );\n",
    "            if z<min and z<>1 then\n",
    "                min:=z;\n",
    "            fi;\n",
    "        fi;\n",
    "    od;\n",
    "od;\n",
    "Print(min);"
   ]
  },
  {
   "cell_type": "code",
   "execution_count": 2,
   "metadata": {},
   "outputs": [
    {
     "data": {
      "text/plain": [
       "S(5)"
      ]
     },
     "execution_count": 2,
     "metadata": {
      "text/plain": ""
     },
     "output_type": "execute_result"
    }
   ],
   "source": [
    "G := PrimitiveGroup(5, 5);"
   ]
  },
  {
   "cell_type": "code",
   "execution_count": 3,
   "metadata": {},
   "outputs": [
    {
     "data": {
      "text/plain": [
       "[ (1,2,3,4,5), (1,2) ]"
      ]
     },
     "execution_count": 3,
     "metadata": {
      "text/plain": ""
     },
     "output_type": "execute_result"
    }
   ],
   "source": [
    "GeneratorsOfGroup(G);"
   ]
  },
  {
   "cell_type": "code",
   "execution_count": 4,
   "metadata": {},
   "outputs": [
    {
     "data": {
      "text/plain": [
       "Sym( [ 2 .. 5 ] )"
      ]
     },
     "execution_count": 4,
     "metadata": {
      "text/plain": ""
     },
     "output_type": "execute_result"
    }
   ],
   "source": [
    "H := Stabiliser(G, 1);"
   ]
  },
  {
   "cell_type": "code",
   "execution_count": 5,
   "metadata": {},
   "outputs": [
    {
     "data": {
      "text/plain": [
       "[ [ 1 ], [ 2, 3, 4, 5 ] ]"
      ]
     },
     "execution_count": 5,
     "metadata": {
      "text/plain": ""
     },
     "output_type": "execute_result"
    }
   ],
   "source": [
    "orbs := Orbits(H, MovedPoints(G));"
   ]
  },
  {
   "cell_type": "code",
   "execution_count": 6,
   "metadata": {},
   "outputs": [
    {
     "data": {
      "text/plain": [
       "2"
      ]
     },
     "execution_count": 6,
     "metadata": {
      "text/plain": ""
     },
     "output_type": "execute_result"
    }
   ],
   "source": [
    "Length(orbs);"
   ]
  },
  {
   "cell_type": "code",
   "execution_count": 38,
   "metadata": {},
   "outputs": [
    {
     "data": {
      "text/plain": [
       "[ 2, 3, 4, 5 ]"
      ]
     },
     "execution_count": 38,
     "metadata": {
      "text/plain": ""
     },
     "output_type": "execute_result"
    }
   ],
   "source": [
    "good_orb := orbs[2];"
   ]
  },
  {
   "cell_type": "code",
   "execution_count": 39,
   "metadata": {},
   "outputs": [
    {
     "data": {
      "text/plain": [
       "rec( adjacencies := [ [ 2, 3, 4, 5 ] ], group := Group( [ (1,2,3,4,5), (1,2) ] ), isGraph := true, names := [ 1, 2, 3, 4, 5 ], order := 5, representatives := [ 1 ], schreierVector := [ -1, 1, 1, 1, 1 ] )"
      ]
     },
     "execution_count": 39,
     "metadata": {},
     "output_type": "execute_result"
    }
   ],
   "source": [
    "gr := Graph(G, [1], OnPoints, function(x, y) return y in good_orb; end);"
   ]
  },
  {
   "cell_type": "code",
   "execution_count": 40,
   "metadata": {},
   "outputs": [
    {
     "data": {
      "text/plain": [
       "true"
      ]
     },
     "execution_count": 40,
     "metadata": {
      "text/plain": ""
     },
     "output_type": "execute_result"
    }
   ],
   "source": [
    "IsSimpleGraph(gr);"
   ]
  },
  {
   "cell_type": "code",
   "execution_count": 41,
   "metadata": {},
   "outputs": [
    {
     "data": {
      "text/plain": [
       "5"
      ]
     },
     "execution_count": 41,
     "metadata": {
      "text/plain": ""
     },
     "output_type": "execute_result"
    }
   ],
   "source": [
    "CliqueNumber( gr );"
   ]
  },
  {
   "cell_type": "code",
   "execution_count": 19,
   "metadata": {},
   "outputs": [
    {
     "data": {
      "text/plain": [
       "[ [ 1, 2 ], [ 1, 3 ], [ 2, 4 ], [ 3, 5 ], [ 4, 5 ] ]"
      ]
     },
     "execution_count": 19,
     "metadata": {
      "text/plain": ""
     },
     "output_type": "execute_result"
    }
   ],
   "source": [
    "UndirectedEdges(gr);"
   ]
  },
  {
   "cell_type": "code",
   "execution_count": 9,
   "metadata": {},
   "outputs": [
    {
     "name": "stdout",
     "output_type": "stream",
     "text": [
      "[ 2, 3 ] [ 1, 4 ] [ 1, 5 ] [ 2, 5 ] [ 3, 4 ] "
     ]
    }
   ],
   "source": [
    "for x in [1,2,3,4,5] do\n",
    "    Print(Adjacency(gr,x),\" \");\n",
    "od;"
   ]
  },
  {
   "cell_type": "code",
   "execution_count": 10,
   "metadata": {},
   "outputs": [
    {
     "data": {
      "text/plain": [
       "function( g, s, max, property ) ... end"
      ]
     },
     "execution_count": 10,
     "metadata": {
      "text/plain": ""
     },
     "output_type": "execute_result"
    }
   ],
   "source": [
    "OrbitRepsOnPutativeTuples := function(g,s,max,property)\n",
    "    local tuplefinder, tuples;\n",
    "    tuples:=[];\n",
    "    tuplefinder:=function(g,s,max)\n",
    "        local stab,sx,ssx,orb,orbs,rest,x;\n",
    "        if(Length(s)=max) then\n",
    "            Print(s,\"\\n\");\n",
    "            Add(tuples,s);\n",
    "            return;\n",
    "        fi;\n",
    "        if IsEmpty(s) then stab:=g;\n",
    "        else stab:= Stabilizer(g,s,OnSets);\n",
    "        fi;\n",
    "        orbs:=Orbits(stab,[1..DegreeAction(g)]);\n",
    "        for orb in orbs do\n",
    "            x:=Minimum(orb);\n",
    "            if (IsEmpty(s) or x>Maximum(s)) and property(Concatenation(s,[x])) then\n",
    "                sx :=Union(s,[x]);\n",
    "                ssx :=SmallestImageSet(g,sx);\n",
    "                if ssx=sx then\n",
    "                    tuplefinder(g,sx,max);\n",
    "                fi;\n",
    "            fi;\n",
    "        od;\n",
    "    end;\n",
    "    tuplefinder(g,s,max);\n",
    "    return tuples;\n",
    "end;"
   ]
  },
  {
   "cell_type": "code",
   "execution_count": 11,
   "metadata": {},
   "outputs": [
    {
     "data": {
      "text/plain": [
       "5"
      ]
     },
     "execution_count": 11,
     "metadata": {
      "text/plain": ""
     },
     "output_type": "execute_result"
    }
   ],
   "source": [
    "NrPrimitiveGroups(5);"
   ]
  },
  {
   "cell_type": "code",
   "execution_count": 12,
   "metadata": {},
   "outputs": [
    {
     "name": "stdout",
     "output_type": "stream",
     "text": [
      "C(5) D(2*5) AGL(1, 5) A(5) S(5) "
     ]
    }
   ],
   "source": [
    "for x in [1,2,3,4,5] do\n",
    "    Print(PrimitiveGroup(5,x),\" \");\n",
    "od;"
   ]
  },
  {
   "cell_type": "code",
   "execution_count": null,
   "metadata": {},
   "outputs": [],
   "source": []
  }
 ],
 "metadata": {
  "kernelspec": {
   "display_name": "GAP 4",
   "language": "gap",
   "name": "gap-4"
  },
  "language_info": {
   "codemirror_mode": "gap",
   "file_extension": ".g",
   "mimetype": "text/x-gap",
   "name": "GAP 4",
   "nbconvert_exporter": "",
   "pygments_lexer": "gap",
   "version": "4.11.1"
  }
 },
 "nbformat": 4,
 "nbformat_minor": 2
}
